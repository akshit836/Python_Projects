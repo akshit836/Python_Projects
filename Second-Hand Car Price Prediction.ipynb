{
 "cells": [
  {
   "cell_type": "code",
   "execution_count": 14,
   "id": "a8427d4c-5cf0-4a57-9ba6-9c1cf5783362",
   "metadata": {},
   "outputs": [
    {
     "name": "stdout",
     "output_type": "stream",
     "text": [
      "                              name  year  selling_price  km_driven    fuel  \\\n",
      "0           Maruti Swift Dzire VDI  2014         450000     145500  Diesel   \n",
      "1     Skoda Rapid 1.5 TDI Ambition  2014         370000     120000  Diesel   \n",
      "2         Honda City 2017-2020 EXi  2006         158000     140000  Petrol   \n",
      "3        Hyundai i20 Sportz Diesel  2010         225000     127000  Diesel   \n",
      "4           Maruti Swift VXI BSIII  2007         130000     120000  Petrol   \n",
      "...                            ...   ...            ...        ...     ...   \n",
      "8122             Hyundai i20 Magna  2013         320000     110000  Petrol   \n",
      "8123         Hyundai Verna CRDi SX  2007         135000     119000  Diesel   \n",
      "8124        Maruti Swift Dzire ZDi  2009         382000     120000  Diesel   \n",
      "8125               Tata Indigo CR4  2013         290000      25000  Diesel   \n",
      "8126               Tata Indigo CR4  2013         290000      25000  Diesel   \n",
      "\n",
      "     seller_type transmission                 owner     mileage   engine  \\\n",
      "0     Individual       Manual           First Owner   23.4 kmpl  1248 CC   \n",
      "1     Individual       Manual          Second Owner  21.14 kmpl  1498 CC   \n",
      "2     Individual       Manual           Third Owner   17.7 kmpl  1497 CC   \n",
      "3     Individual       Manual           First Owner   23.0 kmpl  1396 CC   \n",
      "4     Individual       Manual           First Owner   16.1 kmpl  1298 CC   \n",
      "...          ...          ...                   ...         ...      ...   \n",
      "8122  Individual       Manual           First Owner   18.5 kmpl  1197 CC   \n",
      "8123  Individual       Manual  Fourth & Above Owner   16.8 kmpl  1493 CC   \n",
      "8124  Individual       Manual           First Owner   19.3 kmpl  1248 CC   \n",
      "8125  Individual       Manual           First Owner  23.57 kmpl  1396 CC   \n",
      "8126  Individual       Manual           First Owner  23.57 kmpl  1396 CC   \n",
      "\n",
      "       max_power                     torque  seats  \n",
      "0         74 bhp             190Nm@ 2000rpm    5.0  \n",
      "1     103.52 bhp        250Nm@ 1500-2500rpm    5.0  \n",
      "2         78 bhp      12.7@ 2,700(kgm@ rpm)    5.0  \n",
      "3         90 bhp   22.4 kgm at 1750-2750rpm    5.0  \n",
      "4       88.2 bhp      11.5@ 4,500(kgm@ rpm)    5.0  \n",
      "...          ...                        ...    ...  \n",
      "8122   82.85 bhp           113.7Nm@ 4000rpm    5.0  \n",
      "8123     110 bhp  24@ 1,900-2,750(kgm@ rpm)    5.0  \n",
      "8124    73.9 bhp             190Nm@ 2000rpm    5.0  \n",
      "8125      70 bhp        140Nm@ 1800-3000rpm    5.0  \n",
      "8126      70 bhp        140Nm@ 1800-3000rpm    5.0  \n",
      "\n",
      "[8127 rows x 13 columns]\n"
     ]
    }
   ],
   "source": [
    "import pandas as pd\n",
    "df=pd.read_csv(r\"C:\\Users\\Lenovo\\OneDrive\\Desktop\\Car.csv\").iloc[:,1:]\n",
    "print(df)\n",
    "#goal--->to predict the price of second hand cars\n"
   ]
  },
  {
   "cell_type": "code",
   "execution_count": 15,
   "id": "3b4f9b77-5760-48a2-b1f3-f070f30894bd",
   "metadata": {},
   "outputs": [
    {
     "name": "stdout",
     "output_type": "stream",
     "text": [
      "name               0\n",
      "year               0\n",
      "selling_price      0\n",
      "km_driven          0\n",
      "fuel               0\n",
      "seller_type        0\n",
      "transmission       0\n",
      "owner              0\n",
      "mileage          221\n",
      "engine           221\n",
      "max_power        215\n",
      "torque           221\n",
      "seats            221\n",
      "dtype: int64\n"
     ]
    }
   ],
   "source": [
    "#check the null values\n",
    "print(df.isna().sum())"
   ]
  },
  {
   "cell_type": "code",
   "execution_count": 16,
   "id": "c561afca-22d5-40c9-ab05-4990f3d633e7",
   "metadata": {},
   "outputs": [
    {
     "name": "stdout",
     "output_type": "stream",
     "text": [
      "name             0\n",
      "year             0\n",
      "selling_price    0\n",
      "km_driven        0\n",
      "fuel             0\n",
      "seller_type      0\n",
      "transmission     0\n",
      "owner            0\n",
      "mileage          0\n",
      "engine           0\n",
      "max_power        0\n",
      "torque           0\n",
      "seats            0\n",
      "dtype: int64\n"
     ]
    }
   ],
   "source": [
    "df=df.dropna()\n",
    "print(df.isna().sum())"
   ]
  },
  {
   "cell_type": "code",
   "execution_count": 17,
   "id": "8638b0f8-aa61-4a4b-886b-d6d9676423b1",
   "metadata": {},
   "outputs": [],
   "source": [
    "df=df.reset_index(drop=True)\n"
   ]
  },
  {
   "cell_type": "code",
   "execution_count": 18,
   "id": "b740f5b9-7870-4bd7-99dc-c1cfba5a3b8b",
   "metadata": {},
   "outputs": [
    {
     "name": "stdout",
     "output_type": "stream",
     "text": [
      "seats\n",
      "5.0     6254\n",
      "7.0     1120\n",
      "8.0      235\n",
      "4.0      133\n",
      "9.0       80\n",
      "6.0       62\n",
      "10.0      19\n",
      "2.0        2\n",
      "14.0       1\n",
      "Name: count, dtype: int64\n"
     ]
    }
   ],
   "source": [
    "#seats\n",
    "print(df[\"seats\"].value_counts())\n"
   ]
  },
  {
   "cell_type": "code",
   "execution_count": 19,
   "id": "4b3f8f50-bc18-497e-85f1-5930d4b69099",
   "metadata": {},
   "outputs": [
    {
     "name": "stdout",
     "output_type": "stream",
     "text": [
      "                              name  year  selling_price  km_driven    fuel  \\\n",
      "0           Maruti Swift Dzire VDI  2014         450000     145500  Diesel   \n",
      "1     Skoda Rapid 1.5 TDI Ambition  2014         370000     120000  Diesel   \n",
      "2         Honda City 2017-2020 EXi  2006         158000     140000  Petrol   \n",
      "3        Hyundai i20 Sportz Diesel  2010         225000     127000  Diesel   \n",
      "4           Maruti Swift VXI BSIII  2007         130000     120000  Petrol   \n",
      "...                            ...   ...            ...        ...     ...   \n",
      "7901             Hyundai i20 Magna  2013         320000     110000  Petrol   \n",
      "7902         Hyundai Verna CRDi SX  2007         135000     119000  Diesel   \n",
      "7903        Maruti Swift Dzire ZDi  2009         382000     120000  Diesel   \n",
      "7904               Tata Indigo CR4  2013         290000      25000  Diesel   \n",
      "7905               Tata Indigo CR4  2013         290000      25000  Diesel   \n",
      "\n",
      "     seller_type transmission                 owner     mileage   engine  \\\n",
      "0     Individual       Manual           First Owner   23.4 kmpl  1248 CC   \n",
      "1     Individual       Manual          Second Owner  21.14 kmpl  1498 CC   \n",
      "2     Individual       Manual           Third Owner   17.7 kmpl  1497 CC   \n",
      "3     Individual       Manual           First Owner   23.0 kmpl  1396 CC   \n",
      "4     Individual       Manual           First Owner   16.1 kmpl  1298 CC   \n",
      "...          ...          ...                   ...         ...      ...   \n",
      "7901  Individual       Manual           First Owner   18.5 kmpl  1197 CC   \n",
      "7902  Individual       Manual  Fourth & Above Owner   16.8 kmpl  1493 CC   \n",
      "7903  Individual       Manual           First Owner   19.3 kmpl  1248 CC   \n",
      "7904  Individual       Manual           First Owner  23.57 kmpl  1396 CC   \n",
      "7905  Individual       Manual           First Owner  23.57 kmpl  1396 CC   \n",
      "\n",
      "       max_power  seats  \n",
      "0         74 bhp    5.0  \n",
      "1     103.52 bhp    5.0  \n",
      "2         78 bhp    5.0  \n",
      "3         90 bhp    5.0  \n",
      "4       88.2 bhp    5.0  \n",
      "...          ...    ...  \n",
      "7901   82.85 bhp    5.0  \n",
      "7902     110 bhp    5.0  \n",
      "7903    73.9 bhp    5.0  \n",
      "7904      70 bhp    5.0  \n",
      "7905      70 bhp    5.0  \n",
      "\n",
      "[7906 rows x 12 columns]\n"
     ]
    }
   ],
   "source": [
    "df=df.drop(columns=\"torque\") #as unsynchronize or data not following a particular pattern so that we can split or apply any func.so drop \n",
    "print(df)"
   ]
  },
  {
   "cell_type": "code",
   "execution_count": 20,
   "id": "80a34736-241d-4f08-abfc-435d250b4b15",
   "metadata": {},
   "outputs": [
    {
     "name": "stdout",
     "output_type": "stream",
     "text": [
      "0           74\n",
      "1       103.52\n",
      "2           78\n",
      "3           90\n",
      "4         88.2\n",
      "         ...  \n",
      "7901     82.85\n",
      "7902       110\n",
      "7903      73.9\n",
      "7904        70\n",
      "7905        70\n",
      "Name: max_power, Length: 7906, dtype: object\n"
     ]
    }
   ],
   "source": [
    "def abc(x):\n",
    "    return x.split()[0]\n",
    "df[\"max_power\"]=df[\"max_power\"].apply(abc)\n",
    "print(df[\"max_power\"])\n",
    "\n"
   ]
  },
  {
   "cell_type": "code",
   "execution_count": 21,
   "id": "00205c8c-a89b-4509-892e-c9b9146cdccd",
   "metadata": {},
   "outputs": [],
   "source": [
    "# df[\"max_power\"]=df[\"max_power\"].astype(\"float32\") #here we will find error as some data present that cannot be converted to float\n",
    "# print(df[\"max_power\"])"
   ]
  },
  {
   "cell_type": "code",
   "execution_count": 22,
   "id": "29652d9d-b529-4d6b-a1fb-c2a3cbf6803d",
   "metadata": {},
   "outputs": [],
   "source": [
    "# try:\n",
    "#     print(float(\"abc\"))\n",
    "# except: \n",
    "#     print(\"catch\") "
   ]
  },
  {
   "cell_type": "code",
   "execution_count": 23,
   "id": "8e3c55ce-75ec-41ae-bc10-b5133d5b2922",
   "metadata": {},
   "outputs": [
    {
     "name": "stdout",
     "output_type": "stream",
     "text": [
      "[840]\n"
     ]
    }
   ],
   "source": [
    "index=[]   #used to find index of uncommon or diff datatype value if there in column , we need to drop it,after that change datatype of column\n",
    "for i in range(len(df)):\n",
    "    try:\n",
    "      float(df.iloc[i,-2])  #converting data to float \n",
    " \n",
    "    except:\n",
    "        index.append(i)\n",
    "print(index)\n"
   ]
  },
  {
   "cell_type": "code",
   "execution_count": 24,
   "id": "2331ae0b-49a8-493d-b1d1-37378ddfa3fc",
   "metadata": {},
   "outputs": [],
   "source": [
    "# print(df.iloc[840])\n",
    "df=df.drop(index=840).reset_index(drop=True)\n",
    "# print(df[\"max_power\"])"
   ]
  },
  {
   "cell_type": "code",
   "execution_count": 25,
   "id": "68011d94-9658-4c31-ae3f-06bb95b669b8",
   "metadata": {},
   "outputs": [
    {
     "name": "stdout",
     "output_type": "stream",
     "text": [
      "0           74\n",
      "1       103.52\n",
      "2           78\n",
      "3           90\n",
      "4         88.2\n",
      "         ...  \n",
      "7900     82.85\n",
      "7901       110\n",
      "7902      73.9\n",
      "7903        70\n",
      "7904        70\n",
      "Name: max_power, Length: 7905, dtype: object\n"
     ]
    }
   ],
   "source": [
    "print(df[\"max_power\"])"
   ]
  },
  {
   "cell_type": "code",
   "execution_count": 26,
   "id": "1cfd048a-204d-4aa6-8d7e-b0c86275a1eb",
   "metadata": {},
   "outputs": [
    {
     "name": "stdout",
     "output_type": "stream",
     "text": [
      "0        74.000000\n",
      "1       103.519997\n",
      "2        78.000000\n",
      "3        90.000000\n",
      "4        88.199997\n",
      "           ...    \n",
      "7900     82.849998\n",
      "7901    110.000000\n",
      "7902     73.900002\n",
      "7903     70.000000\n",
      "7904     70.000000\n",
      "Name: max_power, Length: 7905, dtype: float32\n"
     ]
    }
   ],
   "source": [
    "df[\"max_power\"]=df[\"max_power\"].astype(\"float32\")\n",
    "print(df[\"max_power\"])"
   ]
  },
  {
   "cell_type": "code",
   "execution_count": 27,
   "id": "848b9174-4fbf-46a4-b617-d66ab990d3b5",
   "metadata": {},
   "outputs": [
    {
     "data": {
      "image/png": "[encoded data removed]",
      "text/plain": [
       "<Figure size 640x480 with 1 Axes>"
      ]
     },
     "metadata": {},
     "output_type": "display_data"
    }
   ],
   "source": [
    "#max_power vs selling price---->\n",
    "import matplotlib.pyplot as plt\n",
    "plt.ticklabel_format(style=\"plain\") #for actual value change in graph  \n",
    "plt.scatter(df[\"max_power\"],df[\"selling_price\"],color=\"purple\",alpha=0.8,s=20) #range of alpha is 0-1 # s value can be any\n",
    "plt.xlabel(\"power\")\n",
    "plt.ylabel(\"selling_price\")\n",
    "plt.show()\n"
   ]
  },
  {
   "cell_type": "code",
   "execution_count": 28,
   "id": "f0568305-dec7-416a-81c0-5259fadac4a0",
   "metadata": {},
   "outputs": [
    {
     "name": "stdout",
     "output_type": "stream",
     "text": [
      "0       1248\n",
      "1       1498\n",
      "2       1497\n",
      "3       1396\n",
      "4       1298\n",
      "        ... \n",
      "7900    1197\n",
      "7901    1493\n",
      "7902    1248\n",
      "7903    1396\n",
      "7904    1396\n",
      "Name: engine, Length: 7905, dtype: object\n"
     ]
    }
   ],
   "source": [
    "#engine and mileage\n",
    "def abc(x):\n",
    "    return x.split()[0]\n",
    "df[\"engine\"]=df[\"engine\"].apply(abc)\n",
    "print(df[\"engine\"])"
   ]
  },
  {
   "cell_type": "code",
   "execution_count": 29,
   "id": "dd73af54-5e39-4c1e-b0fb-2b4919845b3e",
   "metadata": {},
   "outputs": [
    {
     "name": "stdout",
     "output_type": "stream",
     "text": [
      "[968]\n"
     ]
    }
   ],
   "source": [
    "index=[]\n",
    "for i in range(len(df)):\n",
    "    try:\n",
    "      float(df.iloc[i,-3])\n",
    " \n",
    "    except:\n",
    "        index.append(i)\n",
    "print(index)"
   ]
  },
  {
   "cell_type": "code",
   "execution_count": 30,
   "id": "bfd3e180-a6bf-4b8c-8785-9022e17e95f1",
   "metadata": {},
   "outputs": [
    {
     "name": "stdout",
     "output_type": "stream",
     "text": [
      "0       1248\n",
      "1       1498\n",
      "2       1497\n",
      "3       1396\n",
      "4       1298\n",
      "        ... \n",
      "7899    1197\n",
      "7900    1493\n",
      "7901    1248\n",
      "7902    1396\n",
      "7903    1396\n",
      "Name: engine, Length: 7904, dtype: object\n"
     ]
    }
   ],
   "source": [
    "df=df.drop(index=968).reset_index(drop=True)\n",
    "print(df[\"engine\"])"
   ]
  },
  {
   "cell_type": "code",
   "execution_count": 31,
   "id": "60f18f49-ad9f-40c3-a86c-18bb41c533e4",
   "metadata": {},
   "outputs": [
    {
     "name": "stdout",
     "output_type": "stream",
     "text": [
      "0       1248.0\n",
      "1       1498.0\n",
      "2       1497.0\n",
      "3       1396.0\n",
      "4       1298.0\n",
      "         ...  \n",
      "7899    1197.0\n",
      "7900    1493.0\n",
      "7901    1248.0\n",
      "7902    1396.0\n",
      "7903    1396.0\n",
      "Name: engine, Length: 7904, dtype: float32\n"
     ]
    }
   ],
   "source": [
    "df[\"engine\"]=df[\"engine\"].astype(\"float32\")\n",
    "print(df[\"engine\"])"
   ]
  },
  {
   "cell_type": "code",
   "execution_count": 32,
   "id": "4752ac3d-c7ea-4799-9a17-4ccdf5259bc8",
   "metadata": {},
   "outputs": [
    {
     "name": "stdout",
     "output_type": "stream",
     "text": [
      "0        23.4\n",
      "1       21.14\n",
      "2        17.7\n",
      "3        23.0\n",
      "4        16.1\n",
      "        ...  \n",
      "7899     18.5\n",
      "7900     16.8\n",
      "7901     19.3\n",
      "7902    23.57\n",
      "7903    23.57\n",
      "Name: mileage, Length: 7904, dtype: object\n"
     ]
    }
   ],
   "source": [
    "def abc(x):\n",
    "    return x.split()[0]\n",
    "df[\"mileage\"]=df[\"mileage\"].apply(abc)\n",
    "print(df[\"mileage\"])"
   ]
  },
  {
   "cell_type": "code",
   "execution_count": 33,
   "id": "829e9997-df98-4b5f-a81d-f9af99e259db",
   "metadata": {},
   "outputs": [
    {
     "name": "stdout",
     "output_type": "stream",
     "text": [
      "0       23.400000\n",
      "1       21.139999\n",
      "2       17.700001\n",
      "3       23.000000\n",
      "4       16.100000\n",
      "          ...    \n",
      "7899    18.500000\n",
      "7900    16.799999\n",
      "7901    19.299999\n",
      "7902    23.570000\n",
      "7903    23.570000\n",
      "Name: mileage, Length: 7904, dtype: float32\n"
     ]
    }
   ],
   "source": [
    "df[\"mileage\"]=df[\"mileage\"].astype(\"float32\")\n",
    "print(df[\"mileage\"])"
   ]
  },
  {
   "cell_type": "code",
   "execution_count": 34,
   "id": "e5787974-4ad0-42b9-bd4b-17f628806dbc",
   "metadata": {},
   "outputs": [
    {
     "data": {
      "text/html": [
       "<div>\n",
       "<style scoped>\n",
       "    .dataframe tbody tr th:only-of-type {\n",
       "        vertical-align: middle;\n",
       "    }\n",
       "\n",
       "    .dataframe tbody tr th {\n",
       "        vertical-align: top;\n",
       "    }\n",
       "\n",
       "    .dataframe thead th {\n",
       "        text-align: right;\n",
       "    }\n",
       "</style>\n",
       "<table border=\"1\" class=\"dataframe\">\n",
       "  <thead>\n",
       "    <tr style=\"text-align: right;\">\n",
       "      <th></th>\n",
       "      <th>name</th>\n",
       "      <th>year</th>\n",
       "      <th>selling_price</th>\n",
       "      <th>km_driven</th>\n",
       "      <th>fuel</th>\n",
       "      <th>seller_type</th>\n",
       "      <th>transmission</th>\n",
       "      <th>owner</th>\n",
       "      <th>mileage</th>\n",
       "      <th>engine</th>\n",
       "      <th>max_power</th>\n",
       "      <th>seats</th>\n",
       "    </tr>\n",
       "  </thead>\n",
       "  <tbody>\n",
       "    <tr>\n",
       "      <th>0</th>\n",
       "      <td>Maruti Swift Dzire VDI</td>\n",
       "      <td>2014</td>\n",
       "      <td>450000</td>\n",
       "      <td>145500</td>\n",
       "      <td>Diesel</td>\n",
       "      <td>Individual</td>\n",
       "      <td>Manual</td>\n",
       "      <td>First Owner</td>\n",
       "      <td>23.400000</td>\n",
       "      <td>1248.0</td>\n",
       "      <td>74.000000</td>\n",
       "      <td>5.0</td>\n",
       "    </tr>\n",
       "    <tr>\n",
       "      <th>1</th>\n",
       "      <td>Skoda Rapid 1.5 TDI Ambition</td>\n",
       "      <td>2014</td>\n",
       "      <td>370000</td>\n",
       "      <td>120000</td>\n",
       "      <td>Diesel</td>\n",
       "      <td>Individual</td>\n",
       "      <td>Manual</td>\n",
       "      <td>Second Owner</td>\n",
       "      <td>21.139999</td>\n",
       "      <td>1498.0</td>\n",
       "      <td>103.519997</td>\n",
       "      <td>5.0</td>\n",
       "    </tr>\n",
       "    <tr>\n",
       "      <th>2</th>\n",
       "      <td>Honda City 2017-2020 EXi</td>\n",
       "      <td>2006</td>\n",
       "      <td>158000</td>\n",
       "      <td>140000</td>\n",
       "      <td>Petrol</td>\n",
       "      <td>Individual</td>\n",
       "      <td>Manual</td>\n",
       "      <td>Third Owner</td>\n",
       "      <td>17.700001</td>\n",
       "      <td>1497.0</td>\n",
       "      <td>78.000000</td>\n",
       "      <td>5.0</td>\n",
       "    </tr>\n",
       "    <tr>\n",
       "      <th>3</th>\n",
       "      <td>Hyundai i20 Sportz Diesel</td>\n",
       "      <td>2010</td>\n",
       "      <td>225000</td>\n",
       "      <td>127000</td>\n",
       "      <td>Diesel</td>\n",
       "      <td>Individual</td>\n",
       "      <td>Manual</td>\n",
       "      <td>First Owner</td>\n",
       "      <td>23.000000</td>\n",
       "      <td>1396.0</td>\n",
       "      <td>90.000000</td>\n",
       "      <td>5.0</td>\n",
       "    </tr>\n",
       "    <tr>\n",
       "      <th>4</th>\n",
       "      <td>Maruti Swift VXI BSIII</td>\n",
       "      <td>2007</td>\n",
       "      <td>130000</td>\n",
       "      <td>120000</td>\n",
       "      <td>Petrol</td>\n",
       "      <td>Individual</td>\n",
       "      <td>Manual</td>\n",
       "      <td>First Owner</td>\n",
       "      <td>16.100000</td>\n",
       "      <td>1298.0</td>\n",
       "      <td>88.199997</td>\n",
       "      <td>5.0</td>\n",
       "    </tr>\n",
       "    <tr>\n",
       "      <th>...</th>\n",
       "      <td>...</td>\n",
       "      <td>...</td>\n",
       "      <td>...</td>\n",
       "      <td>...</td>\n",
       "      <td>...</td>\n",
       "      <td>...</td>\n",
       "      <td>...</td>\n",
       "      <td>...</td>\n",
       "      <td>...</td>\n",
       "      <td>...</td>\n",
       "      <td>...</td>\n",
       "      <td>...</td>\n",
       "    </tr>\n",
       "    <tr>\n",
       "      <th>7899</th>\n",
       "      <td>Hyundai i20 Magna</td>\n",
       "      <td>2013</td>\n",
       "      <td>320000</td>\n",
       "      <td>110000</td>\n",
       "      <td>Petrol</td>\n",
       "      <td>Individual</td>\n",
       "      <td>Manual</td>\n",
       "      <td>First Owner</td>\n",
       "      <td>18.500000</td>\n",
       "      <td>1197.0</td>\n",
       "      <td>82.849998</td>\n",
       "      <td>5.0</td>\n",
       "    </tr>\n",
       "    <tr>\n",
       "      <th>7900</th>\n",
       "      <td>Hyundai Verna CRDi SX</td>\n",
       "      <td>2007</td>\n",
       "      <td>135000</td>\n",
       "      <td>119000</td>\n",
       "      <td>Diesel</td>\n",
       "      <td>Individual</td>\n",
       "      <td>Manual</td>\n",
       "      <td>Fourth &amp; Above Owner</td>\n",
       "      <td>16.799999</td>\n",
       "      <td>1493.0</td>\n",
       "      <td>110.000000</td>\n",
       "      <td>5.0</td>\n",
       "    </tr>\n",
       "    <tr>\n",
       "      <th>7901</th>\n",
       "      <td>Maruti Swift Dzire ZDi</td>\n",
       "      <td>2009</td>\n",
       "      <td>382000</td>\n",
       "      <td>120000</td>\n",
       "      <td>Diesel</td>\n",
       "      <td>Individual</td>\n",
       "      <td>Manual</td>\n",
       "      <td>First Owner</td>\n",
       "      <td>19.299999</td>\n",
       "      <td>1248.0</td>\n",
       "      <td>73.900002</td>\n",
       "      <td>5.0</td>\n",
       "    </tr>\n",
       "    <tr>\n",
       "      <th>7902</th>\n",
       "      <td>Tata Indigo CR4</td>\n",
       "      <td>2013</td>\n",
       "      <td>290000</td>\n",
       "      <td>25000</td>\n",
       "      <td>Diesel</td>\n",
       "      <td>Individual</td>\n",
       "      <td>Manual</td>\n",
       "      <td>First Owner</td>\n",
       "      <td>23.570000</td>\n",
       "      <td>1396.0</td>\n",
       "      <td>70.000000</td>\n",
       "      <td>5.0</td>\n",
       "    </tr>\n",
       "    <tr>\n",
       "      <th>7903</th>\n",
       "      <td>Tata Indigo CR4</td>\n",
       "      <td>2013</td>\n",
       "      <td>290000</td>\n",
       "      <td>25000</td>\n",
       "      <td>Diesel</td>\n",
       "      <td>Individual</td>\n",
       "      <td>Manual</td>\n",
       "      <td>First Owner</td>\n",
       "      <td>23.570000</td>\n",
       "      <td>1396.0</td>\n",
       "      <td>70.000000</td>\n",
       "      <td>5.0</td>\n",
       "    </tr>\n",
       "  </tbody>\n",
       "</table>\n",
       "<p>7904 rows × 12 columns</p>\n",
       "</div>"
      ],
      "text/plain": [
       "                              name  year  selling_price  km_driven    fuel  \\\n",
       "0           Maruti Swift Dzire VDI  2014         450000     145500  Diesel   \n",
       "1     Skoda Rapid 1.5 TDI Ambition  2014         370000     120000  Diesel   \n",
       "2         Honda City 2017-2020 EXi  2006         158000     140000  Petrol   \n",
       "3        Hyundai i20 Sportz Diesel  2010         225000     127000  Diesel   \n",
       "4           Maruti Swift VXI BSIII  2007         130000     120000  Petrol   \n",
       "...                            ...   ...            ...        ...     ...   \n",
       "7899             Hyundai i20 Magna  2013         320000     110000  Petrol   \n",
       "7900         Hyundai Verna CRDi SX  2007         135000     119000  Diesel   \n",
       "7901        Maruti Swift Dzire ZDi  2009         382000     120000  Diesel   \n",
       "7902               Tata Indigo CR4  2013         290000      25000  Diesel   \n",
       "7903               Tata Indigo CR4  2013         290000      25000  Diesel   \n",
       "\n",
       "     seller_type transmission                 owner    mileage  engine  \\\n",
       "0     Individual       Manual           First Owner  23.400000  1248.0   \n",
       "1     Individual       Manual          Second Owner  21.139999  1498.0   \n",
       "2     Individual       Manual           Third Owner  17.700001  1497.0   \n",
       "3     Individual       Manual           First Owner  23.000000  1396.0   \n",
       "4     Individual       Manual           First Owner  16.100000  1298.0   \n",
       "...          ...          ...                   ...        ...     ...   \n",
       "7899  Individual       Manual           First Owner  18.500000  1197.0   \n",
       "7900  Individual       Manual  Fourth & Above Owner  16.799999  1493.0   \n",
       "7901  Individual       Manual           First Owner  19.299999  1248.0   \n",
       "7902  Individual       Manual           First Owner  23.570000  1396.0   \n",
       "7903  Individual       Manual           First Owner  23.570000  1396.0   \n",
       "\n",
       "       max_power  seats  \n",
       "0      74.000000    5.0  \n",
       "1     103.519997    5.0  \n",
       "2      78.000000    5.0  \n",
       "3      90.000000    5.0  \n",
       "4      88.199997    5.0  \n",
       "...          ...    ...  \n",
       "7899   82.849998    5.0  \n",
       "7900  110.000000    5.0  \n",
       "7901   73.900002    5.0  \n",
       "7902   70.000000    5.0  \n",
       "7903   70.000000    5.0  \n",
       "\n",
       "[7904 rows x 12 columns]"
      ]
     },
     "execution_count": 34,
     "metadata": {},
     "output_type": "execute_result"
    }
   ],
   "source": [
    "df"
   ]
  },
  {
   "cell_type": "code",
   "execution_count": 35,
   "id": "9ef06b87-54a8-4166-ab80-6870d6343303",
   "metadata": {},
   "outputs": [
    {
     "name": "stdout",
     "output_type": "stream",
     "text": [
      "owner\n",
      "First Owner             5214\n",
      "Second Owner            2015\n",
      "Third Owner              510\n",
      "Fifth                     86\n",
      "Fourth & Above Owner      74\n",
      "Test Drive Car             5\n",
      "Name: count, dtype: int64\n"
     ]
    }
   ],
   "source": [
    "print(df[\"owner\"].value_counts())"
   ]
  },
  {
   "cell_type": "code",
   "execution_count": 36,
   "id": "8753ffd6-2283-4c0d-82c5-283e9d47d6d9",
   "metadata": {},
   "outputs": [
    {
     "name": "stdout",
     "output_type": "stream",
     "text": [
      "owner\n",
      "First Owner             5214\n",
      "Second Owner            2015\n",
      "Third Owner              510\n",
      "Fourth & Above Owner     160\n",
      "Test Drive Car             5\n",
      "Name: count, dtype: int64\n"
     ]
    }
   ],
   "source": [
    "df[\"owner\"]=df[\"owner\"].replace({\"Fifth\":\"Fourth & Above Owner\"}) #just for understanding - value change also by df[\"owner\"].replace(\"abc\",\"xyz\") or by slicing ,but it will do one by one value change or by df[\"owner\"].replace({\"name\":\"abc\"},{\"name:\"xyz\"}) \n",
    "print(df[\"owner\"].value_counts())"
   ]
  },
  {
   "cell_type": "code",
   "execution_count": 37,
   "id": "1230f3db-e369-4695-bf0b-ad2f09a3dc97",
   "metadata": {},
   "outputs": [
    {
     "name": "stdout",
     "output_type": "stream",
     "text": [
      "owner\n",
      "First Owner             5214\n",
      "Second Owner            2015\n",
      "Third Owner              510\n",
      "Fourth & Above Owner     160\n",
      "Name: count, dtype: int64\n"
     ]
    }
   ],
   "source": [
    "f=df[\"owner\"].isin([\"Test Drive Car\"]) #we are removing them as they are hampering the continuity of our data/this data is putting problem when ranking is concerned in our data\n",
    "i=df.index[f] #index used for rows #created filter #index=f can also give \n",
    "#df.drop(index=f) #can do by this method also simplest instead of 2 lines\n",
    "df=df.drop(i) #for removing index #rows remove\n",
    "print(df[\"owner\"].value_counts())\n",
    "#we will apply label encoding on it\n"
   ]
  },
  {
   "cell_type": "code",
   "execution_count": 38,
   "id": "313c0c4b-e13d-42bf-8777-a5bec928274b",
   "metadata": {},
   "outputs": [
    {
     "name": "stdout",
     "output_type": "stream",
     "text": [
      "transmission\n",
      "Manual       6862\n",
      "Automatic    1037\n",
      "Name: count, dtype: int64\n"
     ]
    }
   ],
   "source": [
    "print(df[\"transmission\"].value_counts())\n",
    "#we will apply label encoder (as 2 values so we drop one column in both(like in Gender also),so same thing , so why not apply label instead of ohe rather there is no ranking then also."
   ]
  },
  {
   "cell_type": "code",
   "execution_count": 39,
   "id": "6778378c-5a16-4dc8-aaa2-e51c533265fb",
   "metadata": {},
   "outputs": [
    {
     "name": "stdout",
     "output_type": "stream",
     "text": [
      "seller_type\n",
      "Individual          6561\n",
      "Dealer              1102\n",
      "Trustmark Dealer     236\n",
      "Name: count, dtype: int64\n"
     ]
    }
   ],
   "source": [
    "print(df[\"seller_type\"].value_counts())\n",
    "#OneHotEncoder here as no ranking seeing through seaborn graph"
   ]
  },
  {
   "cell_type": "code",
   "execution_count": 40,
   "id": "1834b715-43cc-4fb1-9ea9-1203b4602024",
   "metadata": {},
   "outputs": [
    {
     "data": {
      "text/plain": [
       "<Axes: xlabel='selling_price', ylabel='seller_type'>"
      ]
     },
     "execution_count": 40,
     "metadata": {},
     "output_type": "execute_result"
    },
    {
     "data": {
      "image/png": "[encoded data removed]",
      "text/plain": [
       "<Figure size 640x480 with 1 Axes>"
      ]
     },
     "metadata": {},
     "output_type": "display_data"
    }
   ],
   "source": [
    "#seaborn -> creative than matplotlib  #used when data transforming\n",
    "import seaborn\n",
    "plt.gca().xaxis.get_major_formatter().set_scientific(False) #shows original notation instead of scientific\n",
    "seaborn.violinplot(data=df,x=\"selling_price\",y=\"seller_type\")\n",
    "#by visually seeing we can decide which encoder to apply in confusion ,if it brings impact then label encoding ,if like same-same thn ohe as no much ranking Ques???????\n",
    "#like here no ranking showing same area all present ,selling price not increasing with change of type so ohe(non ordinal(no ranking))  \n",
    "#matplotlib also has violinplot but it makes diff diff graphs for ind,dealer and trade."
   ]
  },
  {
   "cell_type": "code",
   "execution_count": 41,
   "id": "f11de61e-ff83-4714-9e1b-ddd204242919",
   "metadata": {},
   "outputs": [
    {
     "name": "stdout",
     "output_type": "stream",
     "text": [
      "fuel\n",
      "Diesel    4298\n",
      "Petrol    3514\n",
      "CNG         52\n",
      "LPG         35\n",
      "Name: count, dtype: int64\n"
     ]
    }
   ],
   "source": [
    "print(df[\"fuel\"].value_counts())"
   ]
  },
  {
   "cell_type": "code",
   "execution_count": 42,
   "id": "cce55357-9782-41cb-8551-e6a3f5842e5c",
   "metadata": {},
   "outputs": [
    {
     "data": {
      "text/plain": [
       "<Axes: xlabel='selling_price', ylabel='fuel'>"
      ]
     },
     "execution_count": 42,
     "metadata": {},
     "output_type": "execute_result"
    },
    {
     "data": {
      "image/png": "[encoded data removed]",
      "text/plain": [
       "<Figure size 640x480 with 1 Axes>"
      ]
     },
     "metadata": {},
     "output_type": "display_data"
    }
   ],
   "source": [
    "import seaborn\n",
    "plt.gca().xaxis.get_major_formatter().set_scientific(False) #shows original notation instead of scientific\n",
    "seaborn.violinplot(data=df,x=\"selling_price\",y=\"fuel\")\n"
   ]
  },
  {
   "cell_type": "code",
   "execution_count": 43,
   "id": "c7a0645d-c2c2-4b74-9cc1-b164d1ec0ad8",
   "metadata": {},
   "outputs": [],
   "source": [
    "# f=df[\"fuel\"].isin([\"LPG\",\"CNG\"]\n",
    "# df[\"Eco\"]=df[\"\"].replace\n",
    "# df[\n",
    "df[\"fuel\"]=df[\"fuel\"].replace({\"CNG\":\"Eco\",\"LPG\":\"Eco\"})\n"
   ]
  },
  {
   "cell_type": "code",
   "execution_count": 44,
   "id": "21b13ce2-dc19-487a-a90b-aa0d7c7ea84d",
   "metadata": {},
   "outputs": [
    {
     "data": {
      "text/plain": [
       "<Axes: xlabel='selling_price', ylabel='fuel'>"
      ]
     },
     "execution_count": 44,
     "metadata": {},
     "output_type": "execute_result"
    },
    {
     "data": {
      "image/png": "[encoded data removed]",
      "text/plain": [
       "<Figure size 640x480 with 1 Axes>"
      ]
     },
     "metadata": {},
     "output_type": "display_data"
    }
   ],
   "source": [
    "plt.gca().xaxis.get_major_formatter().set_scientific(False) #shows original notation instead of scientific\n",
    "seaborn.violinplot(data=df,x=\"selling_price\",y=\"fuel\")\n",
    "# synchronization showing by merging to apply label as ranking doing (ordinal values) "
   ]
  },
  {
   "cell_type": "code",
   "execution_count": 45,
   "id": "6a24587d-43ed-410e-ad1c-914ff9047881",
   "metadata": {},
   "outputs": [
    {
     "data": {
      "image/png": "[encoded data removed]",
      "text/plain": [
       "<Figure size 640x480 with 1 Axes>"
      ]
     },
     "metadata": {},
     "output_type": "display_data"
    }
   ],
   "source": [
    "import matplotlib.pyplot as plt\n",
    "plt.scatter(df[\"selling_price\"],df[\"km_driven\"])\n",
    "plt.xlabel(\"Selling Price\")\n",
    "plt.ylabel(\"Km Driven\")\n",
    "plt.ticklabel_format(style=\"plain\") #shows actual format by removing default scientific\n",
    "plt.show()\n",
    "\n",
    "#outliar --> unexpected data /general pattern not following (2 outliars at 1500000,2000000(20 lakh km ) as it is impossible or mystery to sell that much high km driven car)\n",
    "#we need to remove these outliars"
   ]
  },
  {
   "cell_type": "code",
   "execution_count": 46,
   "id": "ab506601-700c-4151-a759-ca099100cd2f",
   "metadata": {},
   "outputs": [
    {
     "name": "stdout",
     "output_type": "stream",
     "text": [
      "name\n",
      "Maruti Swift Dzire VDI                          129\n",
      "Maruti Alto 800 LXI                              82\n",
      "Maruti Alto LXi                                  71\n",
      "BMW X4 M Sport X xDrive20d                       62\n",
      "Maruti Swift VDI                                 61\n",
      "                                               ... \n",
      "Maruti Zen Estilo Sports                          1\n",
      "Skoda Fabia 1.4 TDI Ambiente                      1\n",
      "Mahindra Scorpio VLX 2WD AT BSIII                 1\n",
      "Renault KWID Climber 1.0 AMT                      1\n",
      "Toyota Innova 2.5 GX (Diesel) 8 Seater BS IV      1\n",
      "Name: count, Length: 1979, dtype: int64\n"
     ]
    }
   ],
   "source": [
    "print(df[\"name\"].value_counts())"
   ]
  },
  {
   "cell_type": "code",
   "execution_count": 47,
   "id": "17f357ff-7d02-4f52-a7e3-d7c6bbf50013",
   "metadata": {},
   "outputs": [
    {
     "name": "stdout",
     "output_type": "stream",
     "text": [
      "name\n",
      "Maruti           2366\n",
      "Hyundai          1359\n",
      "Mahindra          758\n",
      "Tata              719\n",
      "Honda             465\n",
      "Toyota            452\n",
      "Ford              388\n",
      "Chevrolet         230\n",
      "Renault           228\n",
      "Volkswagen        184\n",
      "BMW               118\n",
      "Skoda             104\n",
      "Nissan             81\n",
      "Jaguar             71\n",
      "Volvo              67\n",
      "Datsun             65\n",
      "Mercedes-Benz      54\n",
      "Fiat               41\n",
      "Audi               37\n",
      "Lexus              34\n",
      "Jeep               31\n",
      "Mitsubishi         14\n",
      "Force               6\n",
      "Land                6\n",
      "Isuzu               5\n",
      "Kia                 4\n",
      "Ambassador          4\n",
      "Daewoo              3\n",
      "MG                  3\n",
      "Ashok               1\n",
      "Opel                1\n",
      "Name: count, dtype: int64\n"
     ]
    }
   ],
   "source": [
    "def abc(x):  #simplifying data by taking brand and car name \n",
    "    brand=x.split()[0]\n",
    "    name=x.split()[1]\n",
    "    return brand   #as we need to relationship related to selling price only\n",
    "df[\"name\"]=df[\"name\"].apply(abc)\n",
    "print(df[\"name\"].value_counts())"
   ]
  },
  {
   "cell_type": "code",
   "execution_count": 48,
   "id": "a3072223-b534-402c-8e1b-74d0023d084a",
   "metadata": {},
   "outputs": [
    {
     "name": "stdout",
     "output_type": "stream",
     "text": [
      "name\n",
      "Ambassador       124000.00\n",
      "Ashok            300000.00\n",
      "Audi            2319432.35\n",
      "BMW             4153813.56\n",
      "Chevrolet        273867.48\n",
      "Daewoo            77000.00\n",
      "Datsun           314599.95\n",
      "Fiat             317195.07\n",
      "Force            887500.00\n",
      "Ford             520873.67\n",
      "Honda            593903.51\n",
      "Hyundai          473511.00\n",
      "Isuzu           1942000.00\n",
      "Jaguar          2915464.79\n",
      "Jeep            2149612.87\n",
      "Kia             1504500.00\n",
      "Land            3608333.33\n",
      "Lexus           5150000.00\n",
      "MG              1783333.33\n",
      "Mahindra         630021.07\n",
      "Maruti           409091.03\n",
      "Mercedes-Benz   2470444.44\n",
      "Mitsubishi       817500.00\n",
      "Nissan           465407.36\n",
      "Opel              68000.00\n",
      "Renault          462618.38\n",
      "Skoda            609721.12\n",
      "Tata             361853.83\n",
      "Toyota          1011920.31\n",
      "Volkswagen       485217.38\n",
      "Volvo           3272014.93\n",
      "Name: selling_price, dtype: float64\n"
     ]
    }
   ],
   "source": [
    "pd.options.display.float_format=\"{:.2f}\".format #remove the scientific notation\n",
    "g=df.groupby(\"name\") #k,v k -> jiske basis pr grouping hui h and v is value (for printing g as it is already grouped) \n",
    "mean=g[\"selling_price\"].mean() #all brand names group and selling price of that particular brand group thn found mean of it \n",
    "print(mean)"
   ]
  },
  {
   "cell_type": "code",
   "execution_count": 49,
   "id": "eaae9004-20a3-4e75-84d5-629c3bd26cf0",
   "metadata": {},
   "outputs": [
    {
     "data": {
      "text/plain": [
       "name\n",
       "Lexus           5150000.00\n",
       "BMW             4153813.56\n",
       "Land            3608333.33\n",
       "Volvo           3272014.93\n",
       "Jaguar          2915464.79\n",
       "Mercedes-Benz   2470444.44\n",
       "Audi            2319432.35\n",
       "Jeep            2149612.87\n",
       "Isuzu           1942000.00\n",
       "MG              1783333.33\n",
       "Kia             1504500.00\n",
       "Toyota          1011920.31\n",
       "Force            887500.00\n",
       "Mitsubishi       817500.00\n",
       "Mahindra         630021.07\n",
       "Skoda            609721.12\n",
       "Honda            593903.51\n",
       "Ford             520873.67\n",
       "Volkswagen       485217.38\n",
       "Hyundai          473511.00\n",
       "Nissan           465407.36\n",
       "Renault          462618.38\n",
       "Maruti           409091.03\n",
       "Tata             361853.83\n",
       "Fiat             317195.07\n",
       "Datsun           314599.95\n",
       "Ashok            300000.00\n",
       "Chevrolet        273867.48\n",
       "Ambassador       124000.00\n",
       "Daewoo            77000.00\n",
       "Opel              68000.00\n",
       "Name: selling_price, dtype: float64"
      ]
     },
     "execution_count": 49,
     "metadata": {},
     "output_type": "execute_result"
    }
   ],
   "source": [
    "#sort the name column in descending order\n",
    "m=mean.sort_values(ascending=False)\n",
    "m"
   ]
  },
  {
   "cell_type": "code",
   "execution_count": 50,
   "id": "d7505f61-6166-43f0-8e54-152407a8d9bc",
   "metadata": {},
   "outputs": [
    {
     "name": "stdout",
     "output_type": "stream",
     "text": [
      "name\n",
      "1    6672\n",
      "2     882\n",
      "0     345\n",
      "Name: count, dtype: int64\n"
     ]
    }
   ],
   "source": [
    "def fxn(x):\n",
    "    if x in m.index[:12]:\n",
    "        return 2   #Expensive cars #High end cars\n",
    "    elif x in m.index[12:24]:\n",
    "        return 1 #family cars\n",
    "    else:\n",
    "        return 0 #low end cars\n",
    "df[\"name\"]=df[\"name\"].apply(fxn)\n",
    "print(df[\"name\"].value_counts()) #segment divide #without using encoding we have converted #acc to required simplify data by doing grouping #upto this used some feature engineering now to do statistical analysis"
   ]
  },
  {
   "cell_type": "code",
   "execution_count": 51,
   "id": "91afe075-5f3e-4e02-b16f-04e51e544465",
   "metadata": {},
   "outputs": [],
   "source": [
    "#Statistical Analysis-> advance part of ML \n",
    "#When we are unable to know about data by just watching it,we can simply use statistical analysis\n",
    "# 2 Things -> Feature selection #Outliar detection\n",
    "#Feature selection-> Important features to consider wrt dependent variable -->it is a statistical method to select important features(columns) based on their statistical meaning with respect to dependent variable\n",
    "# outliar detection -> Removing those samples which are out of particular pattern or data\n",
    "# 4 cases-> for assumption test (hypothesis)  \n",
    "# Independent      dependent        Test  \n",
    "  # numeric          numeric          pearson corelation test\n",
    "  # numeric          categorical      ANOVA test\n",
    "  # categorical      numeric          ANOVA test\n",
    "  # categorical      categorical      chi sqare test\n",
    "\n",
    "\n",
    "numeric = df[[\"selling_price\",\"km_driven\",\"max_power\",\"engine\",\"mileage\",\"year\"]]\n",
    "category=df[[\"fuel\",\"transmission\",\"seller_type\",\"owner\",\"seats\",\"name\"]]\n"
   ]
  },
  {
   "cell_type": "code",
   "execution_count": 52,
   "id": "9764858d-1964-4e83-8009-0dfb17637263",
   "metadata": {},
   "outputs": [
    {
     "name": "stderr",
     "output_type": "stream",
     "text": [
      "C:\\Users\\Lenovo\\AppData\\Local\\Temp\\ipykernel_25696\\1279088442.py:1: FutureWarning: Downcasting behavior in `replace` is deprecated and will be removed in a future version. To retain the old behavior, explicitly call `result.infer_objects(copy=False)`. To opt-in to the future behavior, set `pd.set_option('future.no_silent_downcasting', True)`\n",
      "  category[\"fuel\"]=category[\"fuel\"].replace({\"Diesel\":0,\"Petrol\":1,\"Eco\":2})              #coding for statistical analysis only not using encoding to convert columns\n",
      "C:\\Users\\Lenovo\\AppData\\Local\\Temp\\ipykernel_25696\\1279088442.py:1: SettingWithCopyWarning: \n",
      "A value is trying to be set on a copy of a slice from a DataFrame.\n",
      "Try using .loc[row_indexer,col_indexer] = value instead\n",
      "\n",
      "See the caveats in the documentation: https://pandas.pydata.org/pandas-docs/stable/user_guide/indexing.html#returning-a-view-versus-a-copy\n",
      "  category[\"fuel\"]=category[\"fuel\"].replace({\"Diesel\":0,\"Petrol\":1,\"Eco\":2})              #coding for statistical analysis only not using encoding to convert columns\n",
      "C:\\Users\\Lenovo\\AppData\\Local\\Temp\\ipykernel_25696\\1279088442.py:2: FutureWarning: Downcasting behavior in `replace` is deprecated and will be removed in a future version. To retain the old behavior, explicitly call `result.infer_objects(copy=False)`. To opt-in to the future behavior, set `pd.set_option('future.no_silent_downcasting', True)`\n",
      "  category[\"transmission\"]=category[\"transmission\"].replace({\"Manual\":0,\"Automatic\":1})\n",
      "C:\\Users\\Lenovo\\AppData\\Local\\Temp\\ipykernel_25696\\1279088442.py:2: SettingWithCopyWarning: \n",
      "A value is trying to be set on a copy of a slice from a DataFrame.\n",
      "Try using .loc[row_indexer,col_indexer] = value instead\n",
      "\n",
      "See the caveats in the documentation: https://pandas.pydata.org/pandas-docs/stable/user_guide/indexing.html#returning-a-view-versus-a-copy\n",
      "  category[\"transmission\"]=category[\"transmission\"].replace({\"Manual\":0,\"Automatic\":1})\n",
      "C:\\Users\\Lenovo\\AppData\\Local\\Temp\\ipykernel_25696\\1279088442.py:3: FutureWarning: Downcasting behavior in `replace` is deprecated and will be removed in a future version. To retain the old behavior, explicitly call `result.infer_objects(copy=False)`. To opt-in to the future behavior, set `pd.set_option('future.no_silent_downcasting', True)`\n",
      "  category[\"seller_type\"]=category[\"seller_type\"].replace({\"Individual\":0,\"Dealer\":1,\"Trustmark Dealer\":2})\n",
      "C:\\Users\\Lenovo\\AppData\\Local\\Temp\\ipykernel_25696\\1279088442.py:3: SettingWithCopyWarning: \n",
      "A value is trying to be set on a copy of a slice from a DataFrame.\n",
      "Try using .loc[row_indexer,col_indexer] = value instead\n",
      "\n",
      "See the caveats in the documentation: https://pandas.pydata.org/pandas-docs/stable/user_guide/indexing.html#returning-a-view-versus-a-copy\n",
      "  category[\"seller_type\"]=category[\"seller_type\"].replace({\"Individual\":0,\"Dealer\":1,\"Trustmark Dealer\":2})\n",
      "C:\\Users\\Lenovo\\AppData\\Local\\Temp\\ipykernel_25696\\1279088442.py:4: FutureWarning: Downcasting behavior in `replace` is deprecated and will be removed in a future version. To retain the old behavior, explicitly call `result.infer_objects(copy=False)`. To opt-in to the future behavior, set `pd.set_option('future.no_silent_downcasting', True)`\n",
      "  category[\"owner\"]=category[\"owner\"].replace({\"First Owner\":0,\"Second Owner\":1,\"Third Owner\":2,\"Fourth & Above Owner\":3})\n",
      "C:\\Users\\Lenovo\\AppData\\Local\\Temp\\ipykernel_25696\\1279088442.py:4: SettingWithCopyWarning: \n",
      "A value is trying to be set on a copy of a slice from a DataFrame.\n",
      "Try using .loc[row_indexer,col_indexer] = value instead\n",
      "\n",
      "See the caveats in the documentation: https://pandas.pydata.org/pandas-docs/stable/user_guide/indexing.html#returning-a-view-versus-a-copy\n",
      "  category[\"owner\"]=category[\"owner\"].replace({\"First Owner\":0,\"Second Owner\":1,\"Third Owner\":2,\"Fourth & Above Owner\":3})\n"
     ]
    }
   ],
   "source": [
    "category[\"fuel\"]=category[\"fuel\"].replace({\"Diesel\":0,\"Petrol\":1,\"Eco\":2})              #coding for statistical analysis only not using encoding to convert columns\n",
    "category[\"transmission\"]=category[\"transmission\"].replace({\"Manual\":0,\"Automatic\":1})\n",
    "category[\"seller_type\"]=category[\"seller_type\"].replace({\"Individual\":0,\"Dealer\":1,\"Trustmark Dealer\":2})\n",
    "category[\"owner\"]=category[\"owner\"].replace({\"First Owner\":0,\"Second Owner\":1,\"Third Owner\":2,\"Fourth & Above Owner\":3})\n"
   ]
  },
  {
   "cell_type": "code",
   "execution_count": 53,
   "id": "5f2bf9b2-8297-4cc1-87c3-05d36964ee5a",
   "metadata": {},
   "outputs": [
    {
     "name": "stdout",
     "output_type": "stream",
     "text": [
      "               selling_price  km_driven  max_power  engine  mileage  year\n",
      "selling_price           1.00      -0.22       0.75    0.46    -0.12  0.41\n",
      "km_driven              -0.22       1.00      -0.04    0.21    -0.17 -0.43\n",
      "max_power               0.75      -0.04       1.00    0.70    -0.37  0.23\n",
      "engine                  0.46       0.21       0.70    1.00    -0.58  0.02\n",
      "mileage                -0.12      -0.17      -0.37   -0.58     1.00  0.33\n",
      "year                    0.41      -0.43       0.23    0.02     0.33  1.00\n"
     ]
    }
   ],
   "source": [
    "#pearson corelation test goes till +1 -> -1  Tells relation with target +ve or -ve # numerical data relation to show\n",
    "n=numeric.corr()\n",
    "print(n)"
   ]
  },
  {
   "cell_type": "code",
   "execution_count": 54,
   "id": "3a5c0ae3-3408-44b4-aae9-0a9e32c4ccc2",
   "metadata": {},
   "outputs": [
    {
     "data": {
      "text/plain": [
       "<Axes: >"
      ]
     },
     "execution_count": 54,
     "metadata": {},
     "output_type": "execute_result"
    },
    {
     "data": {
      "image/png": "[encoded data removed]",
      "text/plain": [
       "<Figure size 640x480 with 2 Axes>"
      ]
     },
     "metadata": {},
     "output_type": "display_data"
    }
   ],
   "source": [
    "#seaborn's new visual heatmap\n",
    "import seaborn\n",
    "seaborn.heatmap(n) #to show above like corelation visual(tells in color) light->+ve relation and much dark->negative relation\n"
   ]
  },
  {
   "cell_type": "code",
   "execution_count": 55,
   "id": "07f86b66-8846-4b60-9052-84be6530d752",
   "metadata": {},
   "outputs": [
    {
     "data": {
      "image/png": "[encoded data removed]",
      "text/plain": [
       "<Figure size 640x480 with 1 Axes>"
      ]
     },
     "metadata": {},
     "output_type": "display_data"
    }
   ],
   "source": [
    "import matplotlib.pyplot as plt\n",
    "plt.hist(df[\"max_power\"]) #positive skewness(not perfect bell shaped)\n",
    "plt.show()\n"
   ]
  },
  {
   "cell_type": "code",
   "execution_count": 56,
   "id": "10f796b8-9180-4ef6-a3b2-423b5ef7cad7",
   "metadata": {},
   "outputs": [
    {
     "name": "stdout",
     "output_type": "stream",
     "text": [
      "1.6423762\n"
     ]
    }
   ],
   "source": [
    "print(df[\"max_power\"].skew()) #to find value of skewness by coding not formula (+ve skewness)  # positive or negative skewness no range,can go till any"
   ]
  },
  {
   "cell_type": "code",
   "execution_count": 57,
   "id": "3f30f07f-2545-4a3f-bfde-4b8b854d7d25",
   "metadata": {},
   "outputs": [
    {
     "name": "stdout",
     "output_type": "stream",
     "text": [
      "[ 3.48813437 12.03276301  6.7549591   3.72507073  2.66180735  9.81551122]\n"
     ]
    }
   ],
   "source": [
    "#kurtosis ->the amount of flatness of normal curve of data \n",
    "#bell shaped range -> -1 to 1 \n",
    "\n",
    "#ANOVA\n",
    "#analysis of variance(variety of distribution) (impact on target if variance as variety in data comes )  #if no variance ,thn can delete column #used to show variance only\n",
    "#It is used to find f score that is used to chk if there is relationship b/w category and numerical column\n",
    "#ANOVA does hypothesis testing(assumption and we need to prove it)\n",
    "# 2 types of Hypothesis -> 1.NULL Hypothesis  2. Alternative Hypothesis\n",
    "# NULL -> variance of all the categories is same(accept or reject on the basis of f score) \n",
    "# Alternative -> variance of all the categories is not same \n",
    "# if variance in data (data is distributed) thn Alternative(accept) else Null(it will reject on the basis of f_score)\n",
    "\n",
    "#ANOVA Test (for now we select 3 best )\n",
    "from sklearn.feature_selection import f_classif,SelectKBest       #Ques--> this is feature selection???\n",
    "#f_classif --->performing anova test and calculating the f-score\n",
    "#selectkBest --->used to select the top columns important wrt to the dependent column based on the highest fscore\n",
    "\n",
    "select =SelectKBest(f_classif,k=3) # selectKBest and k=3 top 3 best / top columns select which have highest f score  #Ques????how it comes to know that which to take categorial and which numeric.is it auto taking??\n",
    "#print(category) #f score with res to  target\n",
    "columns=select.fit_transform(category,numeric[\"selling_price\"]) #what's the use of storing value in column\n",
    "print(select.scores_)  #Ques showing f score??with the help of only select and no use of column here\n",
    "\n",
    "#It auto takes 3 best columns acc to f_score\n",
    "#Ques?????? ex->  if 2.01< 6.75 then   #Ques------------------------> Why are we doing feature selection ???????and calculating f_score "
   ]
  },
  {
   "cell_type": "code",
   "execution_count": 58,
   "id": "4ccc8d34-d439-4e3a-84dc-809a6d5c4fa0",
   "metadata": {
    "scrolled": true
   },
   "outputs": [
    {
     "data": {
      "image/png": "[encoded data removed]",
      "text/plain": [
       "<Figure size 640x480 with 1 Axes>"
      ]
     },
     "metadata": {},
     "output_type": "display_data"
    },
    {
     "data": {
      "image/png": "[encoded data removed]",
      "text/plain": [
       "<Figure size 640x480 with 1 Axes>"
      ]
     },
     "metadata": {},
     "output_type": "display_data"
    },
    {
     "data": {
      "image/png": "[encoded data removed]",
      "text/plain": [
       "<Figure size 640x480 with 1 Axes>"
      ]
     },
     "metadata": {},
     "output_type": "display_data"
    },
    {
     "data": {
      "image/png": "[encoded data removed]",
      "text/plain": [
       "<Figure size 640x480 with 1 Axes>"
      ]
     },
     "metadata": {},
     "output_type": "display_data"
    },
    {
     "data": {
      "image/png": "[encoded data removed]",
      "text/plain": [
       "<Figure size 640x480 with 1 Axes>"
      ]
     },
     "metadata": {},
     "output_type": "display_data"
    },
    {
     "data": {
      "image/png": "[encoded data removed]",
      "text/plain": [
       "<Figure size 640x480 with 1 Axes>"
      ]
     },
     "metadata": {},
     "output_type": "display_data"
    }
   ],
   "source": [
    "#Outliar Detection\n",
    "# r2_score accuracy and also value of mean is affected due to Outliars ex- In Income Tax examination/for raid (by studying transactions pattern )  \n",
    "# 2 Cases \n",
    "# Case 1 -> when data is normally distributed\n",
    "# case 2 --> when data is pure random(belongs to unknown distribution)\n",
    "\n",
    "#Case 1\n",
    "# print(numeric.columns) \n",
    "for column in numeric.columns:        #doing to chk bell-shape is coming or not #At engine bell shape not coming(so undistrib. data) as flat after high so not proper, at others coming     \n",
    "    plt.hist(numeric[column])  #Ques???? km driven le6 as there values are in lakhs???  \n",
    "    plt.title(column)\n",
    "    plt.show()"
   ]
  },
  {
   "cell_type": "code",
   "execution_count": 59,
   "id": "5b8029db-7405-4e81-9dc3-535c89b46db8",
   "metadata": {},
   "outputs": [
    {
     "name": "stdout",
     "output_type": "stream",
     "text": [
      "19.421303\n",
      "4.036935329437256\n"
     ]
    }
   ],
   "source": [
    "x=df[\"mileage\"].mean()\n",
    "print(x)\n",
    "\n",
    "a=df[\"mileage\"].std()\n",
    "print(a)"
   ]
  },
  {
   "cell_type": "code",
   "execution_count": 60,
   "id": "a1008aa1-8de1-43e2-851f-8f87fe7d3a95",
   "metadata": {},
   "outputs": [],
   "source": [
    "# z score\n",
    "# returns standard deviation of each data point wrt mean   Ques?????\n",
    "# z score = x-x(mean) % std dev\n",
    "# if a z score of a point is less than -3 or more than +3 then it will be considered as an outliar(range default set)\n",
    "\n",
    "# index=[]\n",
    "\n",
    "# a=df[\"km_driven\"].mean()\n",
    "# b=df[\"km_driven\"].std()\n",
    "# # print(a)\n",
    "# # print(b)\n",
    "# f= (df[\"km_driven\"]-a)//b  \n",
    "# f1= (f>3) | (f<-3)\n",
    "# # f2= f<-3 \n",
    "# for i in df[\"km_driven\"]: \n",
    "#     f=((i-a)//b) \n",
    "#     if (f>3) | (f<-3) :       \n",
    "#         index.append(i) \n",
    "# print(index)    \n",
    "\n",
    "# print(df.loc[f1].index) \n",
    "# print(df.loc[f2])\n",
    "# print(index)\n",
    "\n",
    "#z score\n",
    "def out_detect(column):\n",
    "    mean=column.mean()\n",
    "    std=column.std()\n",
    "    z_score=(column-mean)/std\n",
    "    return column[(z_score>3) | (z_score < -3)]  \n",
    "\n",
    "outlier=out_detect(numeric[\"km_driven\"])\n",
    "f=numeric[\"km_driven\"].isin(outlier)\n",
    "# print(outlier) \n",
    "numeric=numeric[~f]\n",
    "category=category[~f]\n",
    "\n",
    "outlier1=out_detect(numeric[\"max_power\"])\n",
    "f=numeric[\"max_power\"].isin(outlier1)\n",
    "numeric=numeric[~f]\n",
    "category=category[~f]\n",
    "\n",
    "outlier2=out_detect(numeric[\"mileage\"])  #mileage done outlier detection like this by z_score as normal distribution\n",
    "f=numeric[\"mileage\"].isin(outlier2)\n",
    "numeric=numeric[~f]\n",
    "category=category[~f]"
   ]
  },
  {
   "cell_type": "code",
   "execution_count": 61,
   "id": "28b09c29-90b2-493d-981b-90f072fa4508",
   "metadata": {},
   "outputs": [
    {
     "data": {
      "text/html": [
       "<div>\n",
       "<style scoped>\n",
       "    .dataframe tbody tr th:only-of-type {\n",
       "        vertical-align: middle;\n",
       "    }\n",
       "\n",
       "    .dataframe tbody tr th {\n",
       "        vertical-align: top;\n",
       "    }\n",
       "\n",
       "    .dataframe thead th {\n",
       "        text-align: right;\n",
       "    }\n",
       "</style>\n",
       "<table border=\"1\" class=\"dataframe\">\n",
       "  <thead>\n",
       "    <tr style=\"text-align: right;\">\n",
       "      <th></th>\n",
       "      <th>selling_price</th>\n",
       "      <th>km_driven</th>\n",
       "      <th>max_power</th>\n",
       "      <th>engine</th>\n",
       "      <th>mileage</th>\n",
       "      <th>year</th>\n",
       "    </tr>\n",
       "  </thead>\n",
       "  <tbody>\n",
       "    <tr>\n",
       "      <th>0</th>\n",
       "      <td>450000</td>\n",
       "      <td>145500</td>\n",
       "      <td>74.00</td>\n",
       "      <td>1248.00</td>\n",
       "      <td>23.40</td>\n",
       "      <td>2014</td>\n",
       "    </tr>\n",
       "    <tr>\n",
       "      <th>1</th>\n",
       "      <td>370000</td>\n",
       "      <td>120000</td>\n",
       "      <td>103.52</td>\n",
       "      <td>1498.00</td>\n",
       "      <td>21.14</td>\n",
       "      <td>2014</td>\n",
       "    </tr>\n",
       "    <tr>\n",
       "      <th>2</th>\n",
       "      <td>158000</td>\n",
       "      <td>140000</td>\n",
       "      <td>78.00</td>\n",
       "      <td>1497.00</td>\n",
       "      <td>17.70</td>\n",
       "      <td>2006</td>\n",
       "    </tr>\n",
       "    <tr>\n",
       "      <th>3</th>\n",
       "      <td>225000</td>\n",
       "      <td>127000</td>\n",
       "      <td>90.00</td>\n",
       "      <td>1396.00</td>\n",
       "      <td>23.00</td>\n",
       "      <td>2010</td>\n",
       "    </tr>\n",
       "    <tr>\n",
       "      <th>4</th>\n",
       "      <td>130000</td>\n",
       "      <td>120000</td>\n",
       "      <td>88.20</td>\n",
       "      <td>1298.00</td>\n",
       "      <td>16.10</td>\n",
       "      <td>2007</td>\n",
       "    </tr>\n",
       "    <tr>\n",
       "      <th>...</th>\n",
       "      <td>...</td>\n",
       "      <td>...</td>\n",
       "      <td>...</td>\n",
       "      <td>...</td>\n",
       "      <td>...</td>\n",
       "      <td>...</td>\n",
       "    </tr>\n",
       "    <tr>\n",
       "      <th>7711</th>\n",
       "      <td>320000</td>\n",
       "      <td>110000</td>\n",
       "      <td>82.85</td>\n",
       "      <td>1197.00</td>\n",
       "      <td>18.50</td>\n",
       "      <td>2013</td>\n",
       "    </tr>\n",
       "    <tr>\n",
       "      <th>7712</th>\n",
       "      <td>135000</td>\n",
       "      <td>119000</td>\n",
       "      <td>110.00</td>\n",
       "      <td>1493.00</td>\n",
       "      <td>16.80</td>\n",
       "      <td>2007</td>\n",
       "    </tr>\n",
       "    <tr>\n",
       "      <th>7713</th>\n",
       "      <td>382000</td>\n",
       "      <td>120000</td>\n",
       "      <td>73.90</td>\n",
       "      <td>1248.00</td>\n",
       "      <td>19.30</td>\n",
       "      <td>2009</td>\n",
       "    </tr>\n",
       "    <tr>\n",
       "      <th>7714</th>\n",
       "      <td>290000</td>\n",
       "      <td>25000</td>\n",
       "      <td>70.00</td>\n",
       "      <td>1396.00</td>\n",
       "      <td>23.57</td>\n",
       "      <td>2013</td>\n",
       "    </tr>\n",
       "    <tr>\n",
       "      <th>7715</th>\n",
       "      <td>290000</td>\n",
       "      <td>25000</td>\n",
       "      <td>70.00</td>\n",
       "      <td>1396.00</td>\n",
       "      <td>23.57</td>\n",
       "      <td>2013</td>\n",
       "    </tr>\n",
       "  </tbody>\n",
       "</table>\n",
       "<p>7716 rows × 6 columns</p>\n",
       "</div>"
      ],
      "text/plain": [
       "      selling_price  km_driven  max_power  engine  mileage  year\n",
       "0            450000     145500      74.00 1248.00    23.40  2014\n",
       "1            370000     120000     103.52 1498.00    21.14  2014\n",
       "2            158000     140000      78.00 1497.00    17.70  2006\n",
       "3            225000     127000      90.00 1396.00    23.00  2010\n",
       "4            130000     120000      88.20 1298.00    16.10  2007\n",
       "...             ...        ...        ...     ...      ...   ...\n",
       "7711         320000     110000      82.85 1197.00    18.50  2013\n",
       "7712         135000     119000     110.00 1493.00    16.80  2007\n",
       "7713         382000     120000      73.90 1248.00    19.30  2009\n",
       "7714         290000      25000      70.00 1396.00    23.57  2013\n",
       "7715         290000      25000      70.00 1396.00    23.57  2013\n",
       "\n",
       "[7716 rows x 6 columns]"
      ]
     },
     "execution_count": 61,
     "metadata": {},
     "output_type": "execute_result"
    }
   ],
   "source": [
    "numeric=numeric.reset_index(drop=True)\n",
    "numeric"
   ]
  },
  {
   "cell_type": "code",
   "execution_count": 62,
   "id": "2711a178-571b-43c1-b33f-ed5b4a6568f9",
   "metadata": {},
   "outputs": [
    {
     "data": {
      "text/html": [
       "<div>\n",
       "<style scoped>\n",
       "    .dataframe tbody tr th:only-of-type {\n",
       "        vertical-align: middle;\n",
       "    }\n",
       "\n",
       "    .dataframe tbody tr th {\n",
       "        vertical-align: top;\n",
       "    }\n",
       "\n",
       "    .dataframe thead th {\n",
       "        text-align: right;\n",
       "    }\n",
       "</style>\n",
       "<table border=\"1\" class=\"dataframe\">\n",
       "  <thead>\n",
       "    <tr style=\"text-align: right;\">\n",
       "      <th></th>\n",
       "      <th>fuel</th>\n",
       "      <th>transmission</th>\n",
       "      <th>seller_type</th>\n",
       "      <th>owner</th>\n",
       "      <th>seats</th>\n",
       "      <th>name</th>\n",
       "    </tr>\n",
       "  </thead>\n",
       "  <tbody>\n",
       "    <tr>\n",
       "      <th>0</th>\n",
       "      <td>0</td>\n",
       "      <td>0</td>\n",
       "      <td>0</td>\n",
       "      <td>0</td>\n",
       "      <td>5.00</td>\n",
       "      <td>1</td>\n",
       "    </tr>\n",
       "    <tr>\n",
       "      <th>1</th>\n",
       "      <td>0</td>\n",
       "      <td>0</td>\n",
       "      <td>0</td>\n",
       "      <td>1</td>\n",
       "      <td>5.00</td>\n",
       "      <td>1</td>\n",
       "    </tr>\n",
       "    <tr>\n",
       "      <th>2</th>\n",
       "      <td>1</td>\n",
       "      <td>0</td>\n",
       "      <td>0</td>\n",
       "      <td>2</td>\n",
       "      <td>5.00</td>\n",
       "      <td>1</td>\n",
       "    </tr>\n",
       "    <tr>\n",
       "      <th>3</th>\n",
       "      <td>0</td>\n",
       "      <td>0</td>\n",
       "      <td>0</td>\n",
       "      <td>0</td>\n",
       "      <td>5.00</td>\n",
       "      <td>1</td>\n",
       "    </tr>\n",
       "    <tr>\n",
       "      <th>4</th>\n",
       "      <td>1</td>\n",
       "      <td>0</td>\n",
       "      <td>0</td>\n",
       "      <td>0</td>\n",
       "      <td>5.00</td>\n",
       "      <td>1</td>\n",
       "    </tr>\n",
       "    <tr>\n",
       "      <th>...</th>\n",
       "      <td>...</td>\n",
       "      <td>...</td>\n",
       "      <td>...</td>\n",
       "      <td>...</td>\n",
       "      <td>...</td>\n",
       "      <td>...</td>\n",
       "    </tr>\n",
       "    <tr>\n",
       "      <th>7711</th>\n",
       "      <td>1</td>\n",
       "      <td>0</td>\n",
       "      <td>0</td>\n",
       "      <td>0</td>\n",
       "      <td>5.00</td>\n",
       "      <td>1</td>\n",
       "    </tr>\n",
       "    <tr>\n",
       "      <th>7712</th>\n",
       "      <td>0</td>\n",
       "      <td>0</td>\n",
       "      <td>0</td>\n",
       "      <td>3</td>\n",
       "      <td>5.00</td>\n",
       "      <td>1</td>\n",
       "    </tr>\n",
       "    <tr>\n",
       "      <th>7713</th>\n",
       "      <td>0</td>\n",
       "      <td>0</td>\n",
       "      <td>0</td>\n",
       "      <td>0</td>\n",
       "      <td>5.00</td>\n",
       "      <td>1</td>\n",
       "    </tr>\n",
       "    <tr>\n",
       "      <th>7714</th>\n",
       "      <td>0</td>\n",
       "      <td>0</td>\n",
       "      <td>0</td>\n",
       "      <td>0</td>\n",
       "      <td>5.00</td>\n",
       "      <td>1</td>\n",
       "    </tr>\n",
       "    <tr>\n",
       "      <th>7715</th>\n",
       "      <td>0</td>\n",
       "      <td>0</td>\n",
       "      <td>0</td>\n",
       "      <td>0</td>\n",
       "      <td>5.00</td>\n",
       "      <td>1</td>\n",
       "    </tr>\n",
       "  </tbody>\n",
       "</table>\n",
       "<p>7716 rows × 6 columns</p>\n",
       "</div>"
      ],
      "text/plain": [
       "      fuel  transmission  seller_type  owner  seats  name\n",
       "0        0             0            0      0   5.00     1\n",
       "1        0             0            0      1   5.00     1\n",
       "2        1             0            0      2   5.00     1\n",
       "3        0             0            0      0   5.00     1\n",
       "4        1             0            0      0   5.00     1\n",
       "...    ...           ...          ...    ...    ...   ...\n",
       "7711     1             0            0      0   5.00     1\n",
       "7712     0             0            0      3   5.00     1\n",
       "7713     0             0            0      0   5.00     1\n",
       "7714     0             0            0      0   5.00     1\n",
       "7715     0             0            0      0   5.00     1\n",
       "\n",
       "[7716 rows x 6 columns]"
      ]
     },
     "execution_count": 62,
     "metadata": {},
     "output_type": "execute_result"
    }
   ],
   "source": [
    "category=category.reset_index(drop=True)\n",
    "category"
   ]
  },
  {
   "cell_type": "code",
   "execution_count": 63,
   "id": "5bfd8999-3da4-4952-a9b5-d88e8d8b73eb",
   "metadata": {},
   "outputs": [
    {
     "name": "stdout",
     "output_type": "stream",
     "text": [
      "[[0.24242424 0.07279046]\n",
      " [0.33954934 0.05892564]\n",
      " [0.33916084 0.02218388]\n",
      " ...\n",
      " [0.24242424 0.06100536]\n",
      " [0.2999223  0.04506082]\n",
      " [0.2999223  0.04506082]]\n"
     ]
    }
   ],
   "source": [
    "# Case 2--> When data is pure random(distribution we don't know/unknown dist)\n",
    "# delete outlier from engine column because it has unknown distribution(not normal dist. as not bell shaped)(we came to know abt unknown dist by hist.graph above)   \n",
    "# whenever in any algorithm there is distance calculation then we always have to scale the data.(clustering in unsupervised learning)\n",
    "# MinMaxScaler(minmax scaling ->normalisation)   #Ques--> formula of z score and normalisation same????? and wt is standardization and normalisation and concept of range fixed and range not fixed\n",
    "#normalization in which range is fixed and value scale b/w 0-1\n",
    "data=numeric[[\"engine\",\"selling_price\"]] \n",
    "from sklearn.preprocessing import MinMaxScaler  #MinMaxScaler is in normalisation like StandardScaler in Standard Scaling \n",
    "Scaler=MinMaxScaler()                    \n",
    "data=Scaler.fit_transform(data)          #Ques---> we are like doing encoding here?????????just like standard scaler\n",
    "print(data) #returns in numpy array ohe and in this scaler #output same like standard scaler"
   ]
  },
  {
   "cell_type": "code",
   "execution_count": 64,
   "id": "2cd14b3a-1b0b-4cdd-a905-3af1d6fff2ad",
   "metadata": {},
   "outputs": [
    {
     "name": "stdout",
     "output_type": "stream",
     "text": [
      "(array([-1,  0,  1,  2,  3,  4,  5,  6,  7], dtype=int64), array([  24, 6148, 1319,   56,   24,   41,   67,   12,   25], dtype=int64))\n"
     ]
    }
   ],
   "source": [
    "#DBSCAN algo (density based spatial clustering of applications with noise)  #comes under unsupervised learning as makes clusters\n",
    "import numpy as np\n",
    "from sklearn.cluster import DBSCAN\n",
    "dbscan=DBSCAN(eps=0.06,min_samples=10) #0.06 is radius that we are taking\n",
    "dbscan.fit(data)  #data learn after scaling preprocessing \n",
    "labels=dbscan.labels_     #made labels of diff diff datapoints like 3 point wale ka ek label\n",
    "print(np.unique(labels,return_counts=True)) #-1 is noise points, provided labels to certain points shown in output, from the data,noise points is imp only -> now to chk how many -1 points usne dale h(so use return_counts=True)  \n",
    "#eps  -> epsilons\n",
    "#samples whose circle contain similar no. of points are labeled as one category\n",
    "#those samples whose circle donot contain any data point are labeled as -1 always.\n"
   ]
  },
  {
   "cell_type": "code",
   "execution_count": 65,
   "id": "ee22cbe1-386a-4876-808b-683227a93bed",
   "metadata": {},
   "outputs": [
    {
     "data": {
      "image/png": "[encoded data removed]",
      "text/plain": [
       "<Figure size 640x480 with 1 Axes>"
      ]
     },
     "metadata": {},
     "output_type": "display_data"
    }
   ],
   "source": [
    "a=[12,34,67]\n",
    "b=[1,3,8]\n",
    "color=[1,1,0] #scatter plot feature can give number\n",
    "plt.scatter(a,b,c=color)  #not imp to give color name always in scatter plot auto take if give in number state\n",
    "plt.show()"
   ]
  },
  {
   "cell_type": "code",
   "execution_count": 66,
   "id": "e87e5d73-1230-4c5c-8bad-e84dfcc81762",
   "metadata": {},
   "outputs": [],
   "source": [
    "l=np.where(labels>-1,0,1) # greater than -1 data points will give 0 color and less than -1 give color 1 #value if true 0 value if false 1 color\n",
    "# plt.scatter(df[\"engine\"],df[\"selling_price\"],c=l)  #will give error as outliers are remove of all the file so false situ not work\n",
    "plt.show() # 8 (-1) found through our eyes others are hidden b/w other color data points #so we can't give conclusion seeing only graph"
   ]
  },
  {
   "cell_type": "code",
   "execution_count": 67,
   "id": "df24b7fb-8cf9-4d4e-ad81-6c8032dbd647",
   "metadata": {},
   "outputs": [
    {
     "name": "stdout",
     "output_type": "stream",
     "text": [
      "[[0.         0.         0.         ... 0.         0.         0.        ]\n",
      " [0.         0.00034662 0.00086655 ... 0.00177611 0.00177611 0.00189931]\n",
      " [0.         0.00034662 0.00034662 ... 0.00138648 0.00138648 0.00138648]\n",
      " ...\n",
      " [0.         0.00034662 0.00034662 ... 0.00034662 0.00034662 0.00034662]\n",
      " [0.         0.         0.         ... 0.0017331  0.0017331  0.0017331 ]\n",
      " [0.         0.         0.         ... 0.0017331  0.0017331  0.0017331 ]]\n"
     ]
    }
   ],
   "source": [
    "#how to decide value of epsilon and min samples\n",
    "# epsilon value is decided or described based on the average distance of each point to its nearest neighbors to see that we make a K distance graph.\n",
    "# min neighbors/samples are decided based upon the domain knowledge or project requirement\n",
    "#steps for making K Graph\n",
    "# step 1 -> scale your data(like done minmaxscaler)\n",
    "# step 2 -> to find the nearest neighbor points of each sample\n",
    "# than find the distance between them and then the graph of distance is made\n",
    "\n",
    "from sklearn.neighbors import NearestNeighbors #this class is to find nearest neighbor of each sample\n",
    "nn=NearestNeighbors(n_neighbors=10) # distance from 10 nearest neighbors taking  --> Ques???? right said <-- min_sample value decided from here???????\n",
    "nn.fit(data) \n",
    "distance,index=nn.kneighbors(data) \n",
    "print(distance) #In first line output ,its taking distance of self so 0 #output is nearest neighbor point's distances ????? \n",
    "\n",
    "#Ques--> From where are we seeing in graph/deciding nearest neighbor from k graph????? <--- ans -> but we are finding/deciding no. of epsilons through it\n",
    "\n",
    "# elbow method in DBSCAN\n",
    "#This method involves plotting the curve of the average distance between,points and their nearest neighbor (k-dist graph), and finding the point where the curve \n",
    "#starts to bend. This point can be considered as a good value for eps."
   ]
  },
  {
   "cell_type": "code",
   "execution_count": 68,
   "id": "5149d01b-85e2-423d-9f9d-a8da17cb6ab1",
   "metadata": {},
   "outputs": [
    {
     "data": {
      "image/png": "[encoded data removed]",
      "text/plain": [
       "<Figure size 640x480 with 1 Axes>"
      ]
     },
     "metadata": {},
     "output_type": "display_data"
    }
   ],
   "source": [
    "distance = distance[:,1] \n",
    "distance=np.sort(distance,axis=0) #always to sort in ascending order  #Ques -> axis=0 ?????\n",
    "plt.plot(distance)\n",
    "plt.title(\"k distance graph\") #no. of clusters determine in it\n",
    "plt.show()"
   ]
  },
  {
   "cell_type": "code",
   "execution_count": 69,
   "id": "b9506fbe-d69c-4d33-b57d-b9d91dbbd05a",
   "metadata": {},
   "outputs": [
    {
     "data": {
      "text/html": [
       "<div>\n",
       "<style scoped>\n",
       "    .dataframe tbody tr th:only-of-type {\n",
       "        vertical-align: middle;\n",
       "    }\n",
       "\n",
       "    .dataframe tbody tr th {\n",
       "        vertical-align: top;\n",
       "    }\n",
       "\n",
       "    .dataframe thead th {\n",
       "        text-align: right;\n",
       "    }\n",
       "</style>\n",
       "<table border=\"1\" class=\"dataframe\">\n",
       "  <thead>\n",
       "    <tr style=\"text-align: right;\">\n",
       "      <th></th>\n",
       "      <th>selling_price</th>\n",
       "      <th>km_driven</th>\n",
       "      <th>max_power</th>\n",
       "      <th>engine</th>\n",
       "      <th>mileage</th>\n",
       "      <th>year</th>\n",
       "    </tr>\n",
       "  </thead>\n",
       "  <tbody>\n",
       "    <tr>\n",
       "      <th>0</th>\n",
       "      <td>450000</td>\n",
       "      <td>145500</td>\n",
       "      <td>74.00</td>\n",
       "      <td>1248.00</td>\n",
       "      <td>23.40</td>\n",
       "      <td>2014</td>\n",
       "    </tr>\n",
       "    <tr>\n",
       "      <th>1</th>\n",
       "      <td>370000</td>\n",
       "      <td>120000</td>\n",
       "      <td>103.52</td>\n",
       "      <td>1498.00</td>\n",
       "      <td>21.14</td>\n",
       "      <td>2014</td>\n",
       "    </tr>\n",
       "    <tr>\n",
       "      <th>2</th>\n",
       "      <td>158000</td>\n",
       "      <td>140000</td>\n",
       "      <td>78.00</td>\n",
       "      <td>1497.00</td>\n",
       "      <td>17.70</td>\n",
       "      <td>2006</td>\n",
       "    </tr>\n",
       "    <tr>\n",
       "      <th>3</th>\n",
       "      <td>225000</td>\n",
       "      <td>127000</td>\n",
       "      <td>90.00</td>\n",
       "      <td>1396.00</td>\n",
       "      <td>23.00</td>\n",
       "      <td>2010</td>\n",
       "    </tr>\n",
       "    <tr>\n",
       "      <th>4</th>\n",
       "      <td>130000</td>\n",
       "      <td>120000</td>\n",
       "      <td>88.20</td>\n",
       "      <td>1298.00</td>\n",
       "      <td>16.10</td>\n",
       "      <td>2007</td>\n",
       "    </tr>\n",
       "    <tr>\n",
       "      <th>...</th>\n",
       "      <td>...</td>\n",
       "      <td>...</td>\n",
       "      <td>...</td>\n",
       "      <td>...</td>\n",
       "      <td>...</td>\n",
       "      <td>...</td>\n",
       "    </tr>\n",
       "    <tr>\n",
       "      <th>7711</th>\n",
       "      <td>320000</td>\n",
       "      <td>110000</td>\n",
       "      <td>82.85</td>\n",
       "      <td>1197.00</td>\n",
       "      <td>18.50</td>\n",
       "      <td>2013</td>\n",
       "    </tr>\n",
       "    <tr>\n",
       "      <th>7712</th>\n",
       "      <td>135000</td>\n",
       "      <td>119000</td>\n",
       "      <td>110.00</td>\n",
       "      <td>1493.00</td>\n",
       "      <td>16.80</td>\n",
       "      <td>2007</td>\n",
       "    </tr>\n",
       "    <tr>\n",
       "      <th>7713</th>\n",
       "      <td>382000</td>\n",
       "      <td>120000</td>\n",
       "      <td>73.90</td>\n",
       "      <td>1248.00</td>\n",
       "      <td>19.30</td>\n",
       "      <td>2009</td>\n",
       "    </tr>\n",
       "    <tr>\n",
       "      <th>7714</th>\n",
       "      <td>290000</td>\n",
       "      <td>25000</td>\n",
       "      <td>70.00</td>\n",
       "      <td>1396.00</td>\n",
       "      <td>23.57</td>\n",
       "      <td>2013</td>\n",
       "    </tr>\n",
       "    <tr>\n",
       "      <th>7715</th>\n",
       "      <td>290000</td>\n",
       "      <td>25000</td>\n",
       "      <td>70.00</td>\n",
       "      <td>1396.00</td>\n",
       "      <td>23.57</td>\n",
       "      <td>2013</td>\n",
       "    </tr>\n",
       "  </tbody>\n",
       "</table>\n",
       "<p>7692 rows × 6 columns</p>\n",
       "</div>"
      ],
      "text/plain": [
       "      selling_price  km_driven  max_power  engine  mileage  year\n",
       "0            450000     145500      74.00 1248.00    23.40  2014\n",
       "1            370000     120000     103.52 1498.00    21.14  2014\n",
       "2            158000     140000      78.00 1497.00    17.70  2006\n",
       "3            225000     127000      90.00 1396.00    23.00  2010\n",
       "4            130000     120000      88.20 1298.00    16.10  2007\n",
       "...             ...        ...        ...     ...      ...   ...\n",
       "7711         320000     110000      82.85 1197.00    18.50  2013\n",
       "7712         135000     119000     110.00 1493.00    16.80  2007\n",
       "7713         382000     120000      73.90 1248.00    19.30  2009\n",
       "7714         290000      25000      70.00 1396.00    23.57  2013\n",
       "7715         290000      25000      70.00 1396.00    23.57  2013\n",
       "\n",
       "[7692 rows x 6 columns]"
      ]
     },
     "execution_count": 69,
     "metadata": {},
     "output_type": "execute_result"
    }
   ],
   "source": [
    "f= labels != -1\n",
    "numeric=numeric[f]\n",
    "numeric"
   ]
  },
  {
   "cell_type": "code",
   "execution_count": 70,
   "id": "4cd0f7b9-8650-4dea-a747-536d4eabf8e0",
   "metadata": {},
   "outputs": [],
   "source": [
    "numeric=numeric.reset_index(drop=True)"
   ]
  },
  {
   "cell_type": "code",
   "execution_count": 71,
   "id": "71bcaed7-22f7-4283-b56e-40b0ec5b56b1",
   "metadata": {},
   "outputs": [
    {
     "data": {
      "text/html": [
       "<div>\n",
       "<style scoped>\n",
       "    .dataframe tbody tr th:only-of-type {\n",
       "        vertical-align: middle;\n",
       "    }\n",
       "\n",
       "    .dataframe tbody tr th {\n",
       "        vertical-align: top;\n",
       "    }\n",
       "\n",
       "    .dataframe thead th {\n",
       "        text-align: right;\n",
       "    }\n",
       "</style>\n",
       "<table border=\"1\" class=\"dataframe\">\n",
       "  <thead>\n",
       "    <tr style=\"text-align: right;\">\n",
       "      <th></th>\n",
       "      <th>selling_price</th>\n",
       "      <th>km_driven</th>\n",
       "      <th>max_power</th>\n",
       "      <th>engine</th>\n",
       "      <th>mileage</th>\n",
       "      <th>year</th>\n",
       "    </tr>\n",
       "  </thead>\n",
       "  <tbody>\n",
       "    <tr>\n",
       "      <th>0</th>\n",
       "      <td>450000</td>\n",
       "      <td>145500</td>\n",
       "      <td>74.00</td>\n",
       "      <td>1248.00</td>\n",
       "      <td>23.40</td>\n",
       "      <td>2014</td>\n",
       "    </tr>\n",
       "    <tr>\n",
       "      <th>1</th>\n",
       "      <td>370000</td>\n",
       "      <td>120000</td>\n",
       "      <td>103.52</td>\n",
       "      <td>1498.00</td>\n",
       "      <td>21.14</td>\n",
       "      <td>2014</td>\n",
       "    </tr>\n",
       "    <tr>\n",
       "      <th>2</th>\n",
       "      <td>158000</td>\n",
       "      <td>140000</td>\n",
       "      <td>78.00</td>\n",
       "      <td>1497.00</td>\n",
       "      <td>17.70</td>\n",
       "      <td>2006</td>\n",
       "    </tr>\n",
       "    <tr>\n",
       "      <th>3</th>\n",
       "      <td>225000</td>\n",
       "      <td>127000</td>\n",
       "      <td>90.00</td>\n",
       "      <td>1396.00</td>\n",
       "      <td>23.00</td>\n",
       "      <td>2010</td>\n",
       "    </tr>\n",
       "    <tr>\n",
       "      <th>4</th>\n",
       "      <td>130000</td>\n",
       "      <td>120000</td>\n",
       "      <td>88.20</td>\n",
       "      <td>1298.00</td>\n",
       "      <td>16.10</td>\n",
       "      <td>2007</td>\n",
       "    </tr>\n",
       "    <tr>\n",
       "      <th>...</th>\n",
       "      <td>...</td>\n",
       "      <td>...</td>\n",
       "      <td>...</td>\n",
       "      <td>...</td>\n",
       "      <td>...</td>\n",
       "      <td>...</td>\n",
       "    </tr>\n",
       "    <tr>\n",
       "      <th>7687</th>\n",
       "      <td>320000</td>\n",
       "      <td>110000</td>\n",
       "      <td>82.85</td>\n",
       "      <td>1197.00</td>\n",
       "      <td>18.50</td>\n",
       "      <td>2013</td>\n",
       "    </tr>\n",
       "    <tr>\n",
       "      <th>7688</th>\n",
       "      <td>135000</td>\n",
       "      <td>119000</td>\n",
       "      <td>110.00</td>\n",
       "      <td>1493.00</td>\n",
       "      <td>16.80</td>\n",
       "      <td>2007</td>\n",
       "    </tr>\n",
       "    <tr>\n",
       "      <th>7689</th>\n",
       "      <td>382000</td>\n",
       "      <td>120000</td>\n",
       "      <td>73.90</td>\n",
       "      <td>1248.00</td>\n",
       "      <td>19.30</td>\n",
       "      <td>2009</td>\n",
       "    </tr>\n",
       "    <tr>\n",
       "      <th>7690</th>\n",
       "      <td>290000</td>\n",
       "      <td>25000</td>\n",
       "      <td>70.00</td>\n",
       "      <td>1396.00</td>\n",
       "      <td>23.57</td>\n",
       "      <td>2013</td>\n",
       "    </tr>\n",
       "    <tr>\n",
       "      <th>7691</th>\n",
       "      <td>290000</td>\n",
       "      <td>25000</td>\n",
       "      <td>70.00</td>\n",
       "      <td>1396.00</td>\n",
       "      <td>23.57</td>\n",
       "      <td>2013</td>\n",
       "    </tr>\n",
       "  </tbody>\n",
       "</table>\n",
       "<p>7692 rows × 6 columns</p>\n",
       "</div>"
      ],
      "text/plain": [
       "      selling_price  km_driven  max_power  engine  mileage  year\n",
       "0            450000     145500      74.00 1248.00    23.40  2014\n",
       "1            370000     120000     103.52 1498.00    21.14  2014\n",
       "2            158000     140000      78.00 1497.00    17.70  2006\n",
       "3            225000     127000      90.00 1396.00    23.00  2010\n",
       "4            130000     120000      88.20 1298.00    16.10  2007\n",
       "...             ...        ...        ...     ...      ...   ...\n",
       "7687         320000     110000      82.85 1197.00    18.50  2013\n",
       "7688         135000     119000     110.00 1493.00    16.80  2007\n",
       "7689         382000     120000      73.90 1248.00    19.30  2009\n",
       "7690         290000      25000      70.00 1396.00    23.57  2013\n",
       "7691         290000      25000      70.00 1396.00    23.57  2013\n",
       "\n",
       "[7692 rows x 6 columns]"
      ]
     },
     "execution_count": 71,
     "metadata": {},
     "output_type": "execute_result"
    }
   ],
   "source": [
    "numeric"
   ]
  },
  {
   "cell_type": "code",
   "execution_count": 72,
   "id": "8c658e3e-6727-45ea-9ff9-3bf84f14ff96",
   "metadata": {},
   "outputs": [
    {
     "data": {
      "text/html": [
       "<div>\n",
       "<style scoped>\n",
       "    .dataframe tbody tr th:only-of-type {\n",
       "        vertical-align: middle;\n",
       "    }\n",
       "\n",
       "    .dataframe tbody tr th {\n",
       "        vertical-align: top;\n",
       "    }\n",
       "\n",
       "    .dataframe thead th {\n",
       "        text-align: right;\n",
       "    }\n",
       "</style>\n",
       "<table border=\"1\" class=\"dataframe\">\n",
       "  <thead>\n",
       "    <tr style=\"text-align: right;\">\n",
       "      <th></th>\n",
       "      <th>fuel</th>\n",
       "      <th>transmission</th>\n",
       "      <th>seller_type</th>\n",
       "      <th>owner</th>\n",
       "      <th>seats</th>\n",
       "      <th>name</th>\n",
       "    </tr>\n",
       "  </thead>\n",
       "  <tbody>\n",
       "    <tr>\n",
       "      <th>0</th>\n",
       "      <td>0</td>\n",
       "      <td>0</td>\n",
       "      <td>0</td>\n",
       "      <td>0</td>\n",
       "      <td>5.00</td>\n",
       "      <td>1</td>\n",
       "    </tr>\n",
       "    <tr>\n",
       "      <th>1</th>\n",
       "      <td>0</td>\n",
       "      <td>0</td>\n",
       "      <td>0</td>\n",
       "      <td>1</td>\n",
       "      <td>5.00</td>\n",
       "      <td>1</td>\n",
       "    </tr>\n",
       "    <tr>\n",
       "      <th>2</th>\n",
       "      <td>1</td>\n",
       "      <td>0</td>\n",
       "      <td>0</td>\n",
       "      <td>2</td>\n",
       "      <td>5.00</td>\n",
       "      <td>1</td>\n",
       "    </tr>\n",
       "    <tr>\n",
       "      <th>3</th>\n",
       "      <td>0</td>\n",
       "      <td>0</td>\n",
       "      <td>0</td>\n",
       "      <td>0</td>\n",
       "      <td>5.00</td>\n",
       "      <td>1</td>\n",
       "    </tr>\n",
       "    <tr>\n",
       "      <th>4</th>\n",
       "      <td>1</td>\n",
       "      <td>0</td>\n",
       "      <td>0</td>\n",
       "      <td>0</td>\n",
       "      <td>5.00</td>\n",
       "      <td>1</td>\n",
       "    </tr>\n",
       "    <tr>\n",
       "      <th>...</th>\n",
       "      <td>...</td>\n",
       "      <td>...</td>\n",
       "      <td>...</td>\n",
       "      <td>...</td>\n",
       "      <td>...</td>\n",
       "      <td>...</td>\n",
       "    </tr>\n",
       "    <tr>\n",
       "      <th>7711</th>\n",
       "      <td>1</td>\n",
       "      <td>0</td>\n",
       "      <td>0</td>\n",
       "      <td>0</td>\n",
       "      <td>5.00</td>\n",
       "      <td>1</td>\n",
       "    </tr>\n",
       "    <tr>\n",
       "      <th>7712</th>\n",
       "      <td>0</td>\n",
       "      <td>0</td>\n",
       "      <td>0</td>\n",
       "      <td>3</td>\n",
       "      <td>5.00</td>\n",
       "      <td>1</td>\n",
       "    </tr>\n",
       "    <tr>\n",
       "      <th>7713</th>\n",
       "      <td>0</td>\n",
       "      <td>0</td>\n",
       "      <td>0</td>\n",
       "      <td>0</td>\n",
       "      <td>5.00</td>\n",
       "      <td>1</td>\n",
       "    </tr>\n",
       "    <tr>\n",
       "      <th>7714</th>\n",
       "      <td>0</td>\n",
       "      <td>0</td>\n",
       "      <td>0</td>\n",
       "      <td>0</td>\n",
       "      <td>5.00</td>\n",
       "      <td>1</td>\n",
       "    </tr>\n",
       "    <tr>\n",
       "      <th>7715</th>\n",
       "      <td>0</td>\n",
       "      <td>0</td>\n",
       "      <td>0</td>\n",
       "      <td>0</td>\n",
       "      <td>5.00</td>\n",
       "      <td>1</td>\n",
       "    </tr>\n",
       "  </tbody>\n",
       "</table>\n",
       "<p>7716 rows × 6 columns</p>\n",
       "</div>"
      ],
      "text/plain": [
       "      fuel  transmission  seller_type  owner  seats  name\n",
       "0        0             0            0      0   5.00     1\n",
       "1        0             0            0      1   5.00     1\n",
       "2        1             0            0      2   5.00     1\n",
       "3        0             0            0      0   5.00     1\n",
       "4        1             0            0      0   5.00     1\n",
       "...    ...           ...          ...    ...    ...   ...\n",
       "7711     1             0            0      0   5.00     1\n",
       "7712     0             0            0      3   5.00     1\n",
       "7713     0             0            0      0   5.00     1\n",
       "7714     0             0            0      0   5.00     1\n",
       "7715     0             0            0      0   5.00     1\n",
       "\n",
       "[7716 rows x 6 columns]"
      ]
     },
     "execution_count": 72,
     "metadata": {},
     "output_type": "execute_result"
    }
   ],
   "source": [
    "category"
   ]
  },
  {
   "cell_type": "code",
   "execution_count": 73,
   "id": "0ee1cdb5-bfe2-41a4-9f5f-f4404b9be9ab",
   "metadata": {},
   "outputs": [
    {
     "data": {
      "text/html": [
       "<div>\n",
       "<style scoped>\n",
       "    .dataframe tbody tr th:only-of-type {\n",
       "        vertical-align: middle;\n",
       "    }\n",
       "\n",
       "    .dataframe tbody tr th {\n",
       "        vertical-align: top;\n",
       "    }\n",
       "\n",
       "    .dataframe thead th {\n",
       "        text-align: right;\n",
       "    }\n",
       "</style>\n",
       "<table border=\"1\" class=\"dataframe\">\n",
       "  <thead>\n",
       "    <tr style=\"text-align: right;\">\n",
       "      <th></th>\n",
       "      <th>fuel</th>\n",
       "      <th>transmission</th>\n",
       "      <th>seller_type</th>\n",
       "      <th>owner</th>\n",
       "      <th>seats</th>\n",
       "      <th>name</th>\n",
       "    </tr>\n",
       "  </thead>\n",
       "  <tbody>\n",
       "    <tr>\n",
       "      <th>0</th>\n",
       "      <td>0</td>\n",
       "      <td>0</td>\n",
       "      <td>0</td>\n",
       "      <td>0</td>\n",
       "      <td>5.00</td>\n",
       "      <td>1</td>\n",
       "    </tr>\n",
       "    <tr>\n",
       "      <th>1</th>\n",
       "      <td>0</td>\n",
       "      <td>0</td>\n",
       "      <td>0</td>\n",
       "      <td>1</td>\n",
       "      <td>5.00</td>\n",
       "      <td>1</td>\n",
       "    </tr>\n",
       "    <tr>\n",
       "      <th>2</th>\n",
       "      <td>1</td>\n",
       "      <td>0</td>\n",
       "      <td>0</td>\n",
       "      <td>2</td>\n",
       "      <td>5.00</td>\n",
       "      <td>1</td>\n",
       "    </tr>\n",
       "    <tr>\n",
       "      <th>3</th>\n",
       "      <td>0</td>\n",
       "      <td>0</td>\n",
       "      <td>0</td>\n",
       "      <td>0</td>\n",
       "      <td>5.00</td>\n",
       "      <td>1</td>\n",
       "    </tr>\n",
       "    <tr>\n",
       "      <th>4</th>\n",
       "      <td>1</td>\n",
       "      <td>0</td>\n",
       "      <td>0</td>\n",
       "      <td>0</td>\n",
       "      <td>5.00</td>\n",
       "      <td>1</td>\n",
       "    </tr>\n",
       "    <tr>\n",
       "      <th>...</th>\n",
       "      <td>...</td>\n",
       "      <td>...</td>\n",
       "      <td>...</td>\n",
       "      <td>...</td>\n",
       "      <td>...</td>\n",
       "      <td>...</td>\n",
       "    </tr>\n",
       "    <tr>\n",
       "      <th>7711</th>\n",
       "      <td>1</td>\n",
       "      <td>0</td>\n",
       "      <td>0</td>\n",
       "      <td>0</td>\n",
       "      <td>5.00</td>\n",
       "      <td>1</td>\n",
       "    </tr>\n",
       "    <tr>\n",
       "      <th>7712</th>\n",
       "      <td>0</td>\n",
       "      <td>0</td>\n",
       "      <td>0</td>\n",
       "      <td>3</td>\n",
       "      <td>5.00</td>\n",
       "      <td>1</td>\n",
       "    </tr>\n",
       "    <tr>\n",
       "      <th>7713</th>\n",
       "      <td>0</td>\n",
       "      <td>0</td>\n",
       "      <td>0</td>\n",
       "      <td>0</td>\n",
       "      <td>5.00</td>\n",
       "      <td>1</td>\n",
       "    </tr>\n",
       "    <tr>\n",
       "      <th>7714</th>\n",
       "      <td>0</td>\n",
       "      <td>0</td>\n",
       "      <td>0</td>\n",
       "      <td>0</td>\n",
       "      <td>5.00</td>\n",
       "      <td>1</td>\n",
       "    </tr>\n",
       "    <tr>\n",
       "      <th>7715</th>\n",
       "      <td>0</td>\n",
       "      <td>0</td>\n",
       "      <td>0</td>\n",
       "      <td>0</td>\n",
       "      <td>5.00</td>\n",
       "      <td>1</td>\n",
       "    </tr>\n",
       "  </tbody>\n",
       "</table>\n",
       "<p>7692 rows × 6 columns</p>\n",
       "</div>"
      ],
      "text/plain": [
       "      fuel  transmission  seller_type  owner  seats  name\n",
       "0        0             0            0      0   5.00     1\n",
       "1        0             0            0      1   5.00     1\n",
       "2        1             0            0      2   5.00     1\n",
       "3        0             0            0      0   5.00     1\n",
       "4        1             0            0      0   5.00     1\n",
       "...    ...           ...          ...    ...    ...   ...\n",
       "7711     1             0            0      0   5.00     1\n",
       "7712     0             0            0      3   5.00     1\n",
       "7713     0             0            0      0   5.00     1\n",
       "7714     0             0            0      0   5.00     1\n",
       "7715     0             0            0      0   5.00     1\n",
       "\n",
       "[7692 rows x 6 columns]"
      ]
     },
     "execution_count": 73,
     "metadata": {},
     "output_type": "execute_result"
    }
   ],
   "source": [
    "f=labels!= -1  #we also have to remove outlier rows from the category as otherwise we can't attach numeric and category columns both at end\n",
    "category=category[f]\n",
    "category"
   ]
  },
  {
   "cell_type": "code",
   "execution_count": 74,
   "id": "14c11ecd-2598-481a-80f6-41b38f06b40c",
   "metadata": {},
   "outputs": [],
   "source": [
    "category=category.reset_index(drop=True)"
   ]
  },
  {
   "cell_type": "code",
   "execution_count": 75,
   "id": "a501a0cd-75a0-42bc-a233-5055781b8caf",
   "metadata": {},
   "outputs": [
    {
     "data": {
      "text/html": [
       "<div>\n",
       "<style scoped>\n",
       "    .dataframe tbody tr th:only-of-type {\n",
       "        vertical-align: middle;\n",
       "    }\n",
       "\n",
       "    .dataframe tbody tr th {\n",
       "        vertical-align: top;\n",
       "    }\n",
       "\n",
       "    .dataframe thead th {\n",
       "        text-align: right;\n",
       "    }\n",
       "</style>\n",
       "<table border=\"1\" class=\"dataframe\">\n",
       "  <thead>\n",
       "    <tr style=\"text-align: right;\">\n",
       "      <th></th>\n",
       "      <th>fuel</th>\n",
       "      <th>transmission</th>\n",
       "      <th>seller_type</th>\n",
       "      <th>owner</th>\n",
       "      <th>seats</th>\n",
       "      <th>name</th>\n",
       "    </tr>\n",
       "  </thead>\n",
       "  <tbody>\n",
       "    <tr>\n",
       "      <th>0</th>\n",
       "      <td>0</td>\n",
       "      <td>0</td>\n",
       "      <td>0</td>\n",
       "      <td>0</td>\n",
       "      <td>5.00</td>\n",
       "      <td>1</td>\n",
       "    </tr>\n",
       "    <tr>\n",
       "      <th>1</th>\n",
       "      <td>0</td>\n",
       "      <td>0</td>\n",
       "      <td>0</td>\n",
       "      <td>1</td>\n",
       "      <td>5.00</td>\n",
       "      <td>1</td>\n",
       "    </tr>\n",
       "    <tr>\n",
       "      <th>2</th>\n",
       "      <td>1</td>\n",
       "      <td>0</td>\n",
       "      <td>0</td>\n",
       "      <td>2</td>\n",
       "      <td>5.00</td>\n",
       "      <td>1</td>\n",
       "    </tr>\n",
       "    <tr>\n",
       "      <th>3</th>\n",
       "      <td>0</td>\n",
       "      <td>0</td>\n",
       "      <td>0</td>\n",
       "      <td>0</td>\n",
       "      <td>5.00</td>\n",
       "      <td>1</td>\n",
       "    </tr>\n",
       "    <tr>\n",
       "      <th>4</th>\n",
       "      <td>1</td>\n",
       "      <td>0</td>\n",
       "      <td>0</td>\n",
       "      <td>0</td>\n",
       "      <td>5.00</td>\n",
       "      <td>1</td>\n",
       "    </tr>\n",
       "    <tr>\n",
       "      <th>...</th>\n",
       "      <td>...</td>\n",
       "      <td>...</td>\n",
       "      <td>...</td>\n",
       "      <td>...</td>\n",
       "      <td>...</td>\n",
       "      <td>...</td>\n",
       "    </tr>\n",
       "    <tr>\n",
       "      <th>7687</th>\n",
       "      <td>1</td>\n",
       "      <td>0</td>\n",
       "      <td>0</td>\n",
       "      <td>0</td>\n",
       "      <td>5.00</td>\n",
       "      <td>1</td>\n",
       "    </tr>\n",
       "    <tr>\n",
       "      <th>7688</th>\n",
       "      <td>0</td>\n",
       "      <td>0</td>\n",
       "      <td>0</td>\n",
       "      <td>3</td>\n",
       "      <td>5.00</td>\n",
       "      <td>1</td>\n",
       "    </tr>\n",
       "    <tr>\n",
       "      <th>7689</th>\n",
       "      <td>0</td>\n",
       "      <td>0</td>\n",
       "      <td>0</td>\n",
       "      <td>0</td>\n",
       "      <td>5.00</td>\n",
       "      <td>1</td>\n",
       "    </tr>\n",
       "    <tr>\n",
       "      <th>7690</th>\n",
       "      <td>0</td>\n",
       "      <td>0</td>\n",
       "      <td>0</td>\n",
       "      <td>0</td>\n",
       "      <td>5.00</td>\n",
       "      <td>1</td>\n",
       "    </tr>\n",
       "    <tr>\n",
       "      <th>7691</th>\n",
       "      <td>0</td>\n",
       "      <td>0</td>\n",
       "      <td>0</td>\n",
       "      <td>0</td>\n",
       "      <td>5.00</td>\n",
       "      <td>1</td>\n",
       "    </tr>\n",
       "  </tbody>\n",
       "</table>\n",
       "<p>7692 rows × 6 columns</p>\n",
       "</div>"
      ],
      "text/plain": [
       "      fuel  transmission  seller_type  owner  seats  name\n",
       "0        0             0            0      0   5.00     1\n",
       "1        0             0            0      1   5.00     1\n",
       "2        1             0            0      2   5.00     1\n",
       "3        0             0            0      0   5.00     1\n",
       "4        1             0            0      0   5.00     1\n",
       "...    ...           ...          ...    ...    ...   ...\n",
       "7687     1             0            0      0   5.00     1\n",
       "7688     0             0            0      3   5.00     1\n",
       "7689     0             0            0      0   5.00     1\n",
       "7690     0             0            0      0   5.00     1\n",
       "7691     0             0            0      0   5.00     1\n",
       "\n",
       "[7692 rows x 6 columns]"
      ]
     },
     "execution_count": 75,
     "metadata": {},
     "output_type": "execute_result"
    }
   ],
   "source": [
    "category"
   ]
  },
  {
   "cell_type": "code",
   "execution_count": 76,
   "id": "bdd0ba25-264a-4a48-87ea-832c73581ca8",
   "metadata": {},
   "outputs": [
    {
     "data": {
      "text/html": [
       "<div>\n",
       "<style scoped>\n",
       "    .dataframe tbody tr th:only-of-type {\n",
       "        vertical-align: middle;\n",
       "    }\n",
       "\n",
       "    .dataframe tbody tr th {\n",
       "        vertical-align: top;\n",
       "    }\n",
       "\n",
       "    .dataframe thead th {\n",
       "        text-align: right;\n",
       "    }\n",
       "</style>\n",
       "<table border=\"1\" class=\"dataframe\">\n",
       "  <thead>\n",
       "    <tr style=\"text-align: right;\">\n",
       "      <th></th>\n",
       "      <th>selling_price</th>\n",
       "      <th>km_driven</th>\n",
       "      <th>max_power</th>\n",
       "      <th>engine</th>\n",
       "      <th>mileage</th>\n",
       "      <th>year</th>\n",
       "      <th>fuel</th>\n",
       "      <th>transmission</th>\n",
       "      <th>seller_type</th>\n",
       "      <th>owner</th>\n",
       "      <th>seats</th>\n",
       "      <th>name</th>\n",
       "    </tr>\n",
       "  </thead>\n",
       "  <tbody>\n",
       "    <tr>\n",
       "      <th>0</th>\n",
       "      <td>450000</td>\n",
       "      <td>145500</td>\n",
       "      <td>74.00</td>\n",
       "      <td>1248.00</td>\n",
       "      <td>23.40</td>\n",
       "      <td>2014</td>\n",
       "      <td>0</td>\n",
       "      <td>0</td>\n",
       "      <td>0</td>\n",
       "      <td>0</td>\n",
       "      <td>5.00</td>\n",
       "      <td>1</td>\n",
       "    </tr>\n",
       "    <tr>\n",
       "      <th>1</th>\n",
       "      <td>370000</td>\n",
       "      <td>120000</td>\n",
       "      <td>103.52</td>\n",
       "      <td>1498.00</td>\n",
       "      <td>21.14</td>\n",
       "      <td>2014</td>\n",
       "      <td>0</td>\n",
       "      <td>0</td>\n",
       "      <td>0</td>\n",
       "      <td>1</td>\n",
       "      <td>5.00</td>\n",
       "      <td>1</td>\n",
       "    </tr>\n",
       "    <tr>\n",
       "      <th>2</th>\n",
       "      <td>158000</td>\n",
       "      <td>140000</td>\n",
       "      <td>78.00</td>\n",
       "      <td>1497.00</td>\n",
       "      <td>17.70</td>\n",
       "      <td>2006</td>\n",
       "      <td>1</td>\n",
       "      <td>0</td>\n",
       "      <td>0</td>\n",
       "      <td>2</td>\n",
       "      <td>5.00</td>\n",
       "      <td>1</td>\n",
       "    </tr>\n",
       "    <tr>\n",
       "      <th>3</th>\n",
       "      <td>225000</td>\n",
       "      <td>127000</td>\n",
       "      <td>90.00</td>\n",
       "      <td>1396.00</td>\n",
       "      <td>23.00</td>\n",
       "      <td>2010</td>\n",
       "      <td>0</td>\n",
       "      <td>0</td>\n",
       "      <td>0</td>\n",
       "      <td>0</td>\n",
       "      <td>5.00</td>\n",
       "      <td>1</td>\n",
       "    </tr>\n",
       "    <tr>\n",
       "      <th>4</th>\n",
       "      <td>130000</td>\n",
       "      <td>120000</td>\n",
       "      <td>88.20</td>\n",
       "      <td>1298.00</td>\n",
       "      <td>16.10</td>\n",
       "      <td>2007</td>\n",
       "      <td>1</td>\n",
       "      <td>0</td>\n",
       "      <td>0</td>\n",
       "      <td>0</td>\n",
       "      <td>5.00</td>\n",
       "      <td>1</td>\n",
       "    </tr>\n",
       "    <tr>\n",
       "      <th>...</th>\n",
       "      <td>...</td>\n",
       "      <td>...</td>\n",
       "      <td>...</td>\n",
       "      <td>...</td>\n",
       "      <td>...</td>\n",
       "      <td>...</td>\n",
       "      <td>...</td>\n",
       "      <td>...</td>\n",
       "      <td>...</td>\n",
       "      <td>...</td>\n",
       "      <td>...</td>\n",
       "      <td>...</td>\n",
       "    </tr>\n",
       "    <tr>\n",
       "      <th>7687</th>\n",
       "      <td>320000</td>\n",
       "      <td>110000</td>\n",
       "      <td>82.85</td>\n",
       "      <td>1197.00</td>\n",
       "      <td>18.50</td>\n",
       "      <td>2013</td>\n",
       "      <td>1</td>\n",
       "      <td>0</td>\n",
       "      <td>0</td>\n",
       "      <td>0</td>\n",
       "      <td>5.00</td>\n",
       "      <td>1</td>\n",
       "    </tr>\n",
       "    <tr>\n",
       "      <th>7688</th>\n",
       "      <td>135000</td>\n",
       "      <td>119000</td>\n",
       "      <td>110.00</td>\n",
       "      <td>1493.00</td>\n",
       "      <td>16.80</td>\n",
       "      <td>2007</td>\n",
       "      <td>0</td>\n",
       "      <td>0</td>\n",
       "      <td>0</td>\n",
       "      <td>3</td>\n",
       "      <td>5.00</td>\n",
       "      <td>1</td>\n",
       "    </tr>\n",
       "    <tr>\n",
       "      <th>7689</th>\n",
       "      <td>382000</td>\n",
       "      <td>120000</td>\n",
       "      <td>73.90</td>\n",
       "      <td>1248.00</td>\n",
       "      <td>19.30</td>\n",
       "      <td>2009</td>\n",
       "      <td>0</td>\n",
       "      <td>0</td>\n",
       "      <td>0</td>\n",
       "      <td>0</td>\n",
       "      <td>5.00</td>\n",
       "      <td>1</td>\n",
       "    </tr>\n",
       "    <tr>\n",
       "      <th>7690</th>\n",
       "      <td>290000</td>\n",
       "      <td>25000</td>\n",
       "      <td>70.00</td>\n",
       "      <td>1396.00</td>\n",
       "      <td>23.57</td>\n",
       "      <td>2013</td>\n",
       "      <td>0</td>\n",
       "      <td>0</td>\n",
       "      <td>0</td>\n",
       "      <td>0</td>\n",
       "      <td>5.00</td>\n",
       "      <td>1</td>\n",
       "    </tr>\n",
       "    <tr>\n",
       "      <th>7691</th>\n",
       "      <td>290000</td>\n",
       "      <td>25000</td>\n",
       "      <td>70.00</td>\n",
       "      <td>1396.00</td>\n",
       "      <td>23.57</td>\n",
       "      <td>2013</td>\n",
       "      <td>0</td>\n",
       "      <td>0</td>\n",
       "      <td>0</td>\n",
       "      <td>0</td>\n",
       "      <td>5.00</td>\n",
       "      <td>1</td>\n",
       "    </tr>\n",
       "  </tbody>\n",
       "</table>\n",
       "<p>7692 rows × 12 columns</p>\n",
       "</div>"
      ],
      "text/plain": [
       "      selling_price  km_driven  max_power  engine  mileage  year  fuel  \\\n",
       "0            450000     145500      74.00 1248.00    23.40  2014     0   \n",
       "1            370000     120000     103.52 1498.00    21.14  2014     0   \n",
       "2            158000     140000      78.00 1497.00    17.70  2006     1   \n",
       "3            225000     127000      90.00 1396.00    23.00  2010     0   \n",
       "4            130000     120000      88.20 1298.00    16.10  2007     1   \n",
       "...             ...        ...        ...     ...      ...   ...   ...   \n",
       "7687         320000     110000      82.85 1197.00    18.50  2013     1   \n",
       "7688         135000     119000     110.00 1493.00    16.80  2007     0   \n",
       "7689         382000     120000      73.90 1248.00    19.30  2009     0   \n",
       "7690         290000      25000      70.00 1396.00    23.57  2013     0   \n",
       "7691         290000      25000      70.00 1396.00    23.57  2013     0   \n",
       "\n",
       "      transmission  seller_type  owner  seats  name  \n",
       "0                0            0      0   5.00     1  \n",
       "1                0            0      1   5.00     1  \n",
       "2                0            0      2   5.00     1  \n",
       "3                0            0      0   5.00     1  \n",
       "4                0            0      0   5.00     1  \n",
       "...            ...          ...    ...    ...   ...  \n",
       "7687             0            0      0   5.00     1  \n",
       "7688             0            0      3   5.00     1  \n",
       "7689             0            0      0   5.00     1  \n",
       "7690             0            0      0   5.00     1  \n",
       "7691             0            0      0   5.00     1  \n",
       "\n",
       "[7692 rows x 12 columns]"
      ]
     },
     "execution_count": 76,
     "metadata": {},
     "output_type": "execute_result"
    }
   ],
   "source": [
    "final_df=pd.concat((numeric,category),axis=1) #columnwise concat so axis=1 \n",
    "final_df"
   ]
  },
  {
   "cell_type": "code",
   "execution_count": 77,
   "id": "b3889d43-8eed-4cb7-9fe7-0400aad2e42f",
   "metadata": {},
   "outputs": [
    {
     "data": {
      "text/html": [
       "<div>\n",
       "<style scoped>\n",
       "    .dataframe tbody tr th:only-of-type {\n",
       "        vertical-align: middle;\n",
       "    }\n",
       "\n",
       "    .dataframe tbody tr th {\n",
       "        vertical-align: top;\n",
       "    }\n",
       "\n",
       "    .dataframe thead th {\n",
       "        text-align: right;\n",
       "    }\n",
       "</style>\n",
       "<table border=\"1\" class=\"dataframe\">\n",
       "  <thead>\n",
       "    <tr style=\"text-align: right;\">\n",
       "      <th></th>\n",
       "      <th>km_driven</th>\n",
       "      <th>max_power</th>\n",
       "      <th>engine</th>\n",
       "      <th>mileage</th>\n",
       "      <th>year</th>\n",
       "      <th>fuel</th>\n",
       "      <th>transmission</th>\n",
       "      <th>seller_type</th>\n",
       "      <th>owner</th>\n",
       "      <th>seats</th>\n",
       "      <th>name</th>\n",
       "    </tr>\n",
       "  </thead>\n",
       "  <tbody>\n",
       "    <tr>\n",
       "      <th>0</th>\n",
       "      <td>145500</td>\n",
       "      <td>74.00</td>\n",
       "      <td>1248.00</td>\n",
       "      <td>23.40</td>\n",
       "      <td>2014</td>\n",
       "      <td>0</td>\n",
       "      <td>0</td>\n",
       "      <td>0</td>\n",
       "      <td>0</td>\n",
       "      <td>5.00</td>\n",
       "      <td>1</td>\n",
       "    </tr>\n",
       "    <tr>\n",
       "      <th>1</th>\n",
       "      <td>120000</td>\n",
       "      <td>103.52</td>\n",
       "      <td>1498.00</td>\n",
       "      <td>21.14</td>\n",
       "      <td>2014</td>\n",
       "      <td>0</td>\n",
       "      <td>0</td>\n",
       "      <td>0</td>\n",
       "      <td>1</td>\n",
       "      <td>5.00</td>\n",
       "      <td>1</td>\n",
       "    </tr>\n",
       "    <tr>\n",
       "      <th>2</th>\n",
       "      <td>140000</td>\n",
       "      <td>78.00</td>\n",
       "      <td>1497.00</td>\n",
       "      <td>17.70</td>\n",
       "      <td>2006</td>\n",
       "      <td>1</td>\n",
       "      <td>0</td>\n",
       "      <td>0</td>\n",
       "      <td>2</td>\n",
       "      <td>5.00</td>\n",
       "      <td>1</td>\n",
       "    </tr>\n",
       "    <tr>\n",
       "      <th>3</th>\n",
       "      <td>127000</td>\n",
       "      <td>90.00</td>\n",
       "      <td>1396.00</td>\n",
       "      <td>23.00</td>\n",
       "      <td>2010</td>\n",
       "      <td>0</td>\n",
       "      <td>0</td>\n",
       "      <td>0</td>\n",
       "      <td>0</td>\n",
       "      <td>5.00</td>\n",
       "      <td>1</td>\n",
       "    </tr>\n",
       "    <tr>\n",
       "      <th>4</th>\n",
       "      <td>120000</td>\n",
       "      <td>88.20</td>\n",
       "      <td>1298.00</td>\n",
       "      <td>16.10</td>\n",
       "      <td>2007</td>\n",
       "      <td>1</td>\n",
       "      <td>0</td>\n",
       "      <td>0</td>\n",
       "      <td>0</td>\n",
       "      <td>5.00</td>\n",
       "      <td>1</td>\n",
       "    </tr>\n",
       "    <tr>\n",
       "      <th>...</th>\n",
       "      <td>...</td>\n",
       "      <td>...</td>\n",
       "      <td>...</td>\n",
       "      <td>...</td>\n",
       "      <td>...</td>\n",
       "      <td>...</td>\n",
       "      <td>...</td>\n",
       "      <td>...</td>\n",
       "      <td>...</td>\n",
       "      <td>...</td>\n",
       "      <td>...</td>\n",
       "    </tr>\n",
       "    <tr>\n",
       "      <th>7687</th>\n",
       "      <td>110000</td>\n",
       "      <td>82.85</td>\n",
       "      <td>1197.00</td>\n",
       "      <td>18.50</td>\n",
       "      <td>2013</td>\n",
       "      <td>1</td>\n",
       "      <td>0</td>\n",
       "      <td>0</td>\n",
       "      <td>0</td>\n",
       "      <td>5.00</td>\n",
       "      <td>1</td>\n",
       "    </tr>\n",
       "    <tr>\n",
       "      <th>7688</th>\n",
       "      <td>119000</td>\n",
       "      <td>110.00</td>\n",
       "      <td>1493.00</td>\n",
       "      <td>16.80</td>\n",
       "      <td>2007</td>\n",
       "      <td>0</td>\n",
       "      <td>0</td>\n",
       "      <td>0</td>\n",
       "      <td>3</td>\n",
       "      <td>5.00</td>\n",
       "      <td>1</td>\n",
       "    </tr>\n",
       "    <tr>\n",
       "      <th>7689</th>\n",
       "      <td>120000</td>\n",
       "      <td>73.90</td>\n",
       "      <td>1248.00</td>\n",
       "      <td>19.30</td>\n",
       "      <td>2009</td>\n",
       "      <td>0</td>\n",
       "      <td>0</td>\n",
       "      <td>0</td>\n",
       "      <td>0</td>\n",
       "      <td>5.00</td>\n",
       "      <td>1</td>\n",
       "    </tr>\n",
       "    <tr>\n",
       "      <th>7690</th>\n",
       "      <td>25000</td>\n",
       "      <td>70.00</td>\n",
       "      <td>1396.00</td>\n",
       "      <td>23.57</td>\n",
       "      <td>2013</td>\n",
       "      <td>0</td>\n",
       "      <td>0</td>\n",
       "      <td>0</td>\n",
       "      <td>0</td>\n",
       "      <td>5.00</td>\n",
       "      <td>1</td>\n",
       "    </tr>\n",
       "    <tr>\n",
       "      <th>7691</th>\n",
       "      <td>25000</td>\n",
       "      <td>70.00</td>\n",
       "      <td>1396.00</td>\n",
       "      <td>23.57</td>\n",
       "      <td>2013</td>\n",
       "      <td>0</td>\n",
       "      <td>0</td>\n",
       "      <td>0</td>\n",
       "      <td>0</td>\n",
       "      <td>5.00</td>\n",
       "      <td>1</td>\n",
       "    </tr>\n",
       "  </tbody>\n",
       "</table>\n",
       "<p>7692 rows × 11 columns</p>\n",
       "</div>"
      ],
      "text/plain": [
       "      km_driven  max_power  engine  mileage  year  fuel  transmission  \\\n",
       "0        145500      74.00 1248.00    23.40  2014     0             0   \n",
       "1        120000     103.52 1498.00    21.14  2014     0             0   \n",
       "2        140000      78.00 1497.00    17.70  2006     1             0   \n",
       "3        127000      90.00 1396.00    23.00  2010     0             0   \n",
       "4        120000      88.20 1298.00    16.10  2007     1             0   \n",
       "...         ...        ...     ...      ...   ...   ...           ...   \n",
       "7687     110000      82.85 1197.00    18.50  2013     1             0   \n",
       "7688     119000     110.00 1493.00    16.80  2007     0             0   \n",
       "7689     120000      73.90 1248.00    19.30  2009     0             0   \n",
       "7690      25000      70.00 1396.00    23.57  2013     0             0   \n",
       "7691      25000      70.00 1396.00    23.57  2013     0             0   \n",
       "\n",
       "      seller_type  owner  seats  name  \n",
       "0               0      0   5.00     1  \n",
       "1               0      1   5.00     1  \n",
       "2               0      2   5.00     1  \n",
       "3               0      0   5.00     1  \n",
       "4               0      0   5.00     1  \n",
       "...           ...    ...    ...   ...  \n",
       "7687            0      0   5.00     1  \n",
       "7688            0      3   5.00     1  \n",
       "7689            0      0   5.00     1  \n",
       "7690            0      0   5.00     1  \n",
       "7691            0      0   5.00     1  \n",
       "\n",
       "[7692 rows x 11 columns]"
      ]
     },
     "execution_count": 77,
     "metadata": {},
     "output_type": "execute_result"
    }
   ],
   "source": [
    "y=final_df[\"selling_price\"]\n",
    "x=final_df.drop(columns=\"selling_price\")\n",
    "x #to remove as it is target"
   ]
  },
  {
   "cell_type": "code",
   "execution_count": 78,
   "id": "64462b40-5854-4129-b52b-a0be2f70bd69",
   "metadata": {},
   "outputs": [
    {
     "data": {
      "text/plain": [
       "array([[0.000e+00, 0.000e+00, 1.455e+05, ..., 0.000e+00, 5.000e+00,\n",
       "        1.000e+00],\n",
       "       [0.000e+00, 0.000e+00, 1.200e+05, ..., 1.000e+00, 5.000e+00,\n",
       "        1.000e+00],\n",
       "       [0.000e+00, 0.000e+00, 1.400e+05, ..., 2.000e+00, 5.000e+00,\n",
       "        1.000e+00],\n",
       "       ...,\n",
       "       [0.000e+00, 0.000e+00, 1.200e+05, ..., 0.000e+00, 5.000e+00,\n",
       "        1.000e+00],\n",
       "       [0.000e+00, 0.000e+00, 2.500e+04, ..., 0.000e+00, 5.000e+00,\n",
       "        1.000e+00],\n",
       "       [0.000e+00, 0.000e+00, 2.500e+04, ..., 0.000e+00, 5.000e+00,\n",
       "        1.000e+00]])"
      ]
     },
     "execution_count": 78,
     "metadata": {},
     "output_type": "execute_result"
    }
   ],
   "source": [
    "#encoding\n",
    "#only we have to convert seller_type as not in ohe so to do encoding rather it is encoded then also to do\n",
    "#in all other rest columns like fuel,transmission,owner,seats,name we done label encoding \n",
    "\n",
    "from sklearn.compose import ColumnTransformer\n",
    "from sklearn.preprocessing import OneHotEncoder      \n",
    "\n",
    "ct=ColumnTransformer([(\"encode\",OneHotEncoder(drop=\"first\"),[7])],remainder=\"passthrough\")\n",
    "x=ct.fit_transform(x)\n",
    "x"
   ]
  },
  {
   "cell_type": "code",
   "execution_count": 79,
   "id": "f8aa84da-d39c-4569-a118-7afc384a5b34",
   "metadata": {},
   "outputs": [],
   "source": [
    "from sklearn.preprocessing import StandardScaler\n",
    "scaler=StandardScaler()\n",
    "x=scaler.fit_transform(x)\n",
    "# x"
   ]
  },
  {
   "cell_type": "code",
   "execution_count": 151,
   "id": "7a898c42-322f-4822-8ec4-3f00a30007d9",
   "metadata": {},
   "outputs": [
    {
     "data": {
      "text/plain": [
       "3769    550000\n",
       "4947    500000\n",
       "2267    390000\n",
       "6832    600000\n",
       "4347    599000\n",
       "         ...  \n",
       "4056    120000\n",
       "1843    444000\n",
       "4891    300000\n",
       "2824    409999\n",
       "3667    450000\n",
       "Name: selling_price, Length: 1539, dtype: int64"
      ]
     },
     "execution_count": 151,
     "metadata": {},
     "output_type": "execute_result"
    }
   ],
   "source": [
    "from sklearn.model_selection import train_test_split   \n",
    "x_train,x_test,y_train,y_test=train_test_split(x,y,test_size=0.2,random_state=0)\n",
    "x_train"
   ]
  },
  {
   "cell_type": "code",
   "execution_count": 81,
   "id": "ec8d930a-4a6b-41d2-9c50-d7ab37b7cf24",
   "metadata": {},
   "outputs": [
    {
     "name": "stdout",
     "output_type": "stream",
     "text": [
      "0.9802908774729667\n"
     ]
    }
   ],
   "source": [
    "from sklearn.ensemble import RandomForestRegressor  #Regressor used as data of dependent var is in the form of any range(not fixed) ,range is not fixed (so classification not used)\n",
    "rfr=RandomForestRegressor(n_estimators=100)\n",
    "rfr.fit(x_train,y_train)\n",
    "y_pred=rfr.predict(x_test)\n",
    "from sklearn.metrics import r2_score\n",
    "print(r2_score(y_test,y_pred))"
   ]
  },
  {
   "cell_type": "code",
   "execution_count": null,
   "id": "eb49974c-7003-46a3-bb41-8951ffd4251f",
   "metadata": {},
   "outputs": [],
   "source": []
  }
 ],
 "metadata": {
  "kernelspec": {
   "display_name": "Python 3 (ipykernel)",
   "language": "python",
   "name": "python3"
  },
  "language_info": {
   "codemirror_mode": {
    "name": "ipython",
    "version": 3
   },
   "file_extension": ".py",
   "mimetype": "text/x-python",
   "name": "python",
   "nbconvert_exporter": "python",
   "pygments_lexer": "ipython3",
   "version": "3.12.4"
  }
 },
 "nbformat": 4,
 "nbformat_minor": 5
}
