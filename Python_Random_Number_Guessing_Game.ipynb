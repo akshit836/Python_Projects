{
 "cells": [
  {
   "cell_type": "code",
   "execution_count": null,
   "id": "c19bbb33-a395-45d2-b955-6dd8788aa8f2",
   "metadata": {},
   "outputs": [],
   "source": [
    "#game-->guessing number game   \n",
    "#Random Module basis game\n",
    "#Total User Input =5\n",
    "import random\n",
    "def abc():\n",
    "    x=random.randint(1,100)\n",
    "    for i in range(1,6):\n",
    "        n=int(input(\"enter your guess\"))\n",
    "        if n>x:                      #if input value is greater than random generated value\n",
    "            print(\"higher side\")\n",
    "            if i==5:\n",
    "                print(\"You Lost\")\n",
    "        elif n==x:                  #if input value is equal to random generated value\n",
    "            print(\"you won\")\n",
    "            a=input(\"Do you want to play again Yes/No\")\n",
    "            if a==\"Yes\":\n",
    "                abc()\n",
    "            else:\n",
    "                break\n",
    "        else:\n",
    "            print(\"lower side\")\n",
    "            if i==5:\n",
    "                print(\"You Lost\") \n",
    "        if i==5 and n!=x:\n",
    "            a=input(\"Do you want to play again Yes/No\")\n",
    "            if a==\"Yes\":\n",
    "                abc()  \n",
    "abc()"
   ]
  }
 ],
 "metadata": {
  "kernelspec": {
   "display_name": "Python 3 (ipykernel)",
   "language": "python",
   "name": "python3"
  },
  "language_info": {
   "codemirror_mode": {
    "name": "ipython",
    "version": 3
   },
   "file_extension": ".py",
   "mimetype": "text/x-python",
   "name": "python",
   "nbconvert_exporter": "python",
   "pygments_lexer": "ipython3",
   "version": "3.12.4"
  }
 },
 "nbformat": 4,
 "nbformat_minor": 5
}
